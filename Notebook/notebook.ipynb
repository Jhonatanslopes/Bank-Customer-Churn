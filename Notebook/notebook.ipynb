{
 "cells": [
  {
   "cell_type": "markdown",
   "id": "629df25f",
   "metadata": {},
   "source": [
    "# <P style=color:orange>CICLO 2: 05/04 - 11/04</P>"
   ]
  },
  {
   "cell_type": "markdown",
   "id": "ddf37920",
   "metadata": {},
   "source": [
    "# CONTEXTO DO PROBLEMA"
   ]
  },
  {
   "cell_type": "markdown",
   "id": "518137e9",
   "metadata": {},
   "source": [
    "A **TopBank** é uma grande empresa de serviços bancários. Ela atua principalmente nos países da Europa oferecendo produtos financeiros, desde contas bancárias até investimentos, passando por alguns tipos de seguros e produto de investimento.\n",
    "\n",
    "O modelo de negócio da empresa é do tipo serviço, ou seja, ela comercializa serviços bancários para seus clientes através de agências físicas e um portal online. \n",
    "\n",
    "O principal produto da empresa é uma conta bancária, na qual o cliente pode depositar seu salário, fazer saques, depósitos e transferência para outras contas. Essa conta bancária não tem custo para o cliente e tem uma vigência de 12 meses, ou seja, o cliente precisa renovar o contrato dessa conta para continuar utilizando pelos próximos 12 meses.\n",
    "\n",
    "Segundo o time de Analytics da TopBank, cada cliente que possui essa conta bancária retorna um valor monetário de 15% do valor do seu salário estimado, se esse for menor que a média e 20% se esse salário for maior que a média, durante o período vigente de sua conta. Esse valor é calculado anualmente. \n",
    "\n",
    "Por exemplo, se o salário mensal de um cliente é de 1.000,00 reais e a média de todos os salários do banco é de 800,00 reais A empresa, portanto, fatura 200,00 reais anualmente com esse cliente. Se esse cliente está no banco a 10 anos, a empresa já faturou 2.000,00 reais com suas transações e utilização da conta. \n",
    "\n",
    "Nos últimos meses, o time de Analytics percebeu que a taxa de clientes cancelando suas contas e deixando o banco, atingiu números inéditos na empresa. Preocupados com o aumento dessa taxa, o time planejou um plano de ação para diminuir taxa de evasão de clientes.\n",
    "\n",
    "Preocupados com a queda dessa métrica, o time de Analytics da TopBottom, contratou você como consultor de Data Science para criar um plano de ação, com o objetivo de reduzir a evasão de clientes, ou seja, impedir que o cliente cancele seu contrato e não o renove por mais 12 meses. Essa evasão, nas métricas de negócio, é conhecida como Churn.\n",
    "\n",
    "De maneira geral, Churn é uma métrica que indica o número de clientes que cancelaram o contrato ou pararam de comprar seu produto em um determinado período de tempo. Por exemplo, clientes que cancelaram o contrato de serviço ou após o vencimento do mesmo, não renovaram, são clientes considerados em churn.\n",
    "\n",
    "Outro exemplo seria os clientes que não fazem uma compra à mais de 60 dias. Esse clientes podem ser considerados clientes em churn até que uma compra seja realizada. O período de 60 dias é totalmente arbitrário e varia entre empresas. "
   ]
  },
  {
   "cell_type": "markdown",
   "id": "19510e23",
   "metadata": {},
   "source": [
    "# O PROBLEMA"
   ]
  },
  {
   "cell_type": "markdown",
   "id": "dc7ba416",
   "metadata": {},
   "source": [
    "Como um Consultor de Ciência de Dados, você precisa criar um plano de ação para diminuir o número de clientes em churn e mostrar o retorno financeiro da sua solução.\n",
    "\n",
    "Ao final da sua consultoria, você precisa entregar ao CEO da TopBottom um modelo em produção, que receberá uma base de clientes via API e retornará essa mesma base “scorada”, ou seja, um coluna à mais com a probabilidade de cada cliente entrar em churn.\n",
    "\n",
    "Além disso, você precisará fornecer um relatório reportando a performance do seu modelo e o impacto financeiro da sua solução. Questões que o CEO e o time de Analytics gostariam de ver em seu relatório:\n",
    "\n",
    "- Qual a taxa atual de Churn da TopBank? Como ela varia mensalmente?\n",
    "- Qual a Performance do modelo em classificar os clientes como churns?\n",
    "- Qual o retorno esperado, em termos de faturamento, se a empresa utilizar seu modelo para evitar o churn dos clientes?\n",
    "\n",
    "Uma possível ação para evitar que o cliente entre em churn é oferecer um cupom de desconto, ou alguma outro incentivo financeiro para ele renovar seu contrato por mais 12 meses.\n",
    "\n",
    "- Para quais clientes você daria o incentivo financeiro e qual seria esse valor, de modo a maximizar o ROI (Retorno sobre o investimento). Lembrando que a soma dos incentivos não pode ultrapassar os  R$10.000,00"
   ]
  },
  {
   "cell_type": "markdown",
   "id": "913a375c",
   "metadata": {},
   "source": [
    "# ENTENDIMENTO DO PROBLEMA"
   ]
  },
  {
   "cell_type": "markdown",
   "id": "eb3aa4c2",
   "metadata": {},
   "source": [
    "**Motivação:** Diminuir a taxa de Churn da empresa.\n",
    "\n",
    "**Causa Raiz do Problema:** Estimular a compra de clientes em Churn.\n",
    "\n",
    "**Tipo de Problema:** Identificar clientes que entrarão em Churn.\n",
    "\n",
    "**Potênciais Métodos:** Classificação, Rank to Learn.\n",
    "\n",
    "**Granularidade:** Previsão de Churn por cliente.\n",
    "\n",
    "**Entraga da Solução:** NÃO DEFINIDO.\n",
    "\n",
    "**Dados para Resolver o Problema**: [Kaggle](https://www.kaggle.com/mervetorkan/churndataset)"
   ]
  },
  {
   "cell_type": "markdown",
   "id": "a409fbeb",
   "metadata": {},
   "source": [
    "# PLANEJAMENTO"
   ]
  },
  {
   "cell_type": "markdown",
   "id": "2c79bfc0",
   "metadata": {},
   "source": [
    "**1.** Identificar os clientes que receberão o CUPOM de desconto.\n",
    "\n",
    "**2.** Identificar o incentivo do cumpo para cada cliente. \n",
    " - 1º tent: 7%\n",
    " \n",
    "**Metrics:** Lift, Gains"
   ]
  },
  {
   "cell_type": "markdown",
   "id": "c9341ce4",
   "metadata": {},
   "source": [
    "# 0.0 IMPORTS"
   ]
  },
  {
   "cell_type": "code",
   "execution_count": 1,
   "id": "2f466e76",
   "metadata": {},
   "outputs": [],
   "source": [
    "# manipulation\n",
    "import pandas as pd\n",
    "import inflection\n",
    "\n",
    "# math and statistic\n",
    "import numpy as np\n",
    "from scipy import stats\n",
    "\n",
    "# visualization\n",
    "import matplotlib.pyplot as plt\n",
    "import seaborn as sns\n",
    "from scikitplot.metrics import plot_roc\n",
    "\n",
    "# preparation\n",
    "from sklearn.model_selection import train_test_split\n",
    "from sklearn.model_selection import StratifiedKFold\n",
    "from sklearn.preprocessing import StandardScaler\n",
    "from sklearn.preprocessing import MinMaxScaler\n",
    "from sklearn.preprocessing import RobustScaler\n",
    "from boruta import BorutaPy\n",
    "\n",
    "# model\n",
    "from sklearn.ensemble import ExtraTreesClassifier\n",
    "from sklearn.dummy import DummyClassifier\n",
    "from sklearn.naive_bayes import GaussianNB\n",
    "\n",
    "# metric\n",
    "from sklearn.metrics import accuracy_score\n",
    "from sklearn.metrics import recall_score\n",
    "from sklearn.metrics import precision_score\n",
    "from scikitplot import metrics\n",
    "from sklearn.metrics import confusion_matrix\n",
    "\n",
    "# others\n",
    "import warnings\n",
    "from typing    import Iterable, Any\n",
    "from itertools import product"
   ]
  },
  {
   "cell_type": "markdown",
   "id": "a6bff740",
   "metadata": {},
   "source": [
    "## 0.1 Funções Auxiliares"
   ]
  },
  {
   "cell_type": "code",
   "execution_count": 85,
   "id": "dd88d64d",
   "metadata": {},
   "outputs": [],
   "source": [
    "def plot_box(x1, x2, x3, df):\n",
    "    \n",
    "    plt.figure(figsize=(15, 10))\n",
    "    plt.subplot(2, 3, 1)\n",
    "    sns.boxplot(x=x1, data=df)\n",
    "    sns.despine(right=True)\n",
    "    \n",
    "    plt.subplot(2, 3, 2)\n",
    "    sns.boxplot(x=x2, data=df)\n",
    "    sns.despine(right=True)\n",
    "    \n",
    "    plt.subplot(2, 3, 3)\n",
    "    sns.boxplot(x=x3, data=df)\n",
    "    sns.despine(right=True)\n",
    "\n",
    "\n",
    "\n",
    "def plot_bar(x1, x2, x3, df):\n",
    "    \n",
    "    plt.figure(figsize=(15, 4))\n",
    "    plt.subplot(1, 3, 1)\n",
    "    sns.countplot(x=x1, data=df)\n",
    "    sns.despine(right=True)\n",
    "\n",
    "    plt.subplot(1, 3, 2)\n",
    "    sns.countplot(x=x2, data=df)\n",
    "    sns.despine(right=True)\n",
    "    \n",
    "    plt.subplot(1, 3, 3)\n",
    "    sns.countplot(x=x3, data=df)\n",
    "    sns.despine(right=True)\n",
    "    \n",
    "    \n",
    "# correlation categories\n",
    "def cramer_v(x, y):\n",
    "    \n",
    "    cm = pd.crosstab(x, y).values\n",
    "    n = cm.sum()\n",
    "    r, k = cm.shape\n",
    "    \n",
    "    chi2 = stats.chi2_contingency(cm)[0]\n",
    "    chi2_corr = max(0, chi2 - (k-1) * (r-1) / (n-1))\n",
    "    \n",
    "    kcorr = k - (k-1) **2 / (n-1)\n",
    "    rcorr = r - (r-1) **2 / (n-1)\n",
    "    \n",
    "    return np.sqrt((chi2_corr / n) / (min(kcorr-1, rcorr-1)))\n",
    "\n",
    "\n",
    "# Show matrix correlation\n",
    "def show_matrix(col, data, output='list'):\n",
    "\n",
    "    rows = []\n",
    "    index = []\n",
    "    columns = []\n",
    "\n",
    "    for c in data.columns:\n",
    "\n",
    "        result = cramer_v(x=data[str(col)], y=data[str(c)])\n",
    "\n",
    "        rows.append(result)\n",
    "        index.append(str(c))\n",
    "        columns.append(str(col))\n",
    "        \n",
    "    if output == 'list':\n",
    "        return rows\n",
    "    \n",
    "    elif output == 'dict':\n",
    "        return pd.DataFrame(rows, index=index, columns=[str(col)])\n",
    "\n",
    "    \n",
    "def plot_curve(model_name, y_pred, y_true):\n",
    "    \n",
    "    title1, title2 = 'Cumulative Gains Curve', 'Lift Curve'\n",
    "    metrics.plot_cumulative_gain(y_true, y_pred, figsize=(15, 5), title=title1+' - ' + model_name)\n",
    "    plt.axvline(k / 2000, color='r', linestyle='dashed', label='k={}'.format(k))\n",
    "    plt.legend()\n",
    "    \n",
    "    metrics.plot_lift_curve(y_true, y_pred, figsize=(15, 5), title=title2+' - ' + model_name)\n",
    "    plt.axvline(k / 2000, color='r', linestyle='dashed', label='k={}'.format(k))\n",
    "    plt.legend();\n",
    "    \n",
    "    \n",
    "def precision_at_k(data, k):\n",
    "    \n",
    "    '''\n",
    "    A função recebe os dados e o numero de Top K linhas\n",
    "    e retorna  o resultado da métrica precision @k.\n",
    "    '''\n",
    "    \n",
    "    # Sort clients by propensity score\n",
    "    data = data.sort_values(by='score', ascending=False)\n",
    "\n",
    "    # Reset index\n",
    "    data = data.reset_index(drop=True)\n",
    "\n",
    "    # Create ranking order\n",
    "    data['ranking'] = data.index + 1\n",
    "\n",
    "    # Calculate precision in K\n",
    "    data['precision_at_k'] = data['response'].cumsum() / data['ranking']\n",
    "    \n",
    "    return data.loc[k, 'precision_at_k'] # Return result precision\n",
    "\n",
    "\n",
    "def recall_at_k(data, k):\n",
    "    \n",
    "    '''\n",
    "    A função recebe os dados e o numero de Top K linhas\n",
    "    e retorna  o resultado da métrica recall @k\n",
    "    '''\n",
    "    \n",
    "    # Sort clients by propensity score\n",
    "    data = data.sort_values(by='score', ascending=False)\n",
    "\n",
    "    # Reset index\n",
    "    data = data.reset_index(drop=True)\n",
    "\n",
    "    # Create ranking order\n",
    "    data['ranking']  = data.index + 1\n",
    "\n",
    "    # Calculate recall in K\n",
    "    data['recall_at_k']= data['response'].cumsum() / data['response'].sum()\n",
    "    \n",
    "    return data.loc[k, 'recall_at_k'] # Return result recall at k\n",
    "\n",
    "\n",
    "def cross_validation(model_name, x, y, model, cv, k, verbose=True):\n",
    "    \n",
    "    '''\n",
    "    A função recebe o nome do modelo, modelo, dados,\n",
    "    numero de folds e o numero de pessoas da base ordenada e retorna um\n",
    "    dataframe com as métricas precision e recall para o topk escolhido.\n",
    "    \n",
    "    model_name=nome do modelo, x=features, y=target, model=modelo instanciado,\n",
    "    cv=folds, top5=pessoas da base ordenada\n",
    "    '''\n",
    "    \n",
    "    kfold = StratifiedKFold(n_splits=cv, shuffle=True, random_state=42)\n",
    "    precision = []\n",
    "    recall = []\n",
    "    fold = 0\n",
    "    \n",
    "    for train, test in kfold.split(x, y):\n",
    "        fold += 1\n",
    "        \n",
    "        if verbose:\n",
    "            print(f'Number KFold: {fold}/{cv}')\n",
    "        \n",
    "        # trainigng\n",
    "        x_train = x.iloc[train].copy()\n",
    "        y_train = y.iloc[train].copy()  \n",
    "        \n",
    "        # validation\n",
    "        x_val = x.iloc[test].copy() \n",
    "        y_val = y.iloc[test].copy() \n",
    "        \n",
    "        # Model training\n",
    "        model_trained = model.fit(x_train, y_train)\n",
    "        yhat_model = model_trained.predict_proba(x_val)\n",
    "\n",
    "        # -- Performance\n",
    "        x_val['response'] = y_val.copy() # Add target in the data to cumpute metric\n",
    "\n",
    "        # Propensity score\n",
    "        x_val['score'] = list(yhat_model[:, 1])\n",
    "\n",
    "        # Sort clients by propensity score\n",
    "        df = x_val.sort_values(by='score', ascending=False)\n",
    "\n",
    "        # Compute precision at K\n",
    "        precision.append(precision_at_k(df, k=k))\n",
    "        recall.append(recall_at_k(df, k=k))\n",
    "        \n",
    "    model_metric = pd.DataFrame({\n",
    "            'model_name': model_name,\n",
    "            'number of K': k,\n",
    "            'precision_top_at': np.mean(precision),\n",
    "            'recall_top_at': np.mean(recall),\n",
    "            }, index=[0])\n",
    "    \n",
    "    return model_metric\n",
    "\n",
    "\n",
    "def grid_parameters(parameters: dict[str, Iterable[Any]]) -> Iterable[dict[str, Any]]:\n",
    "    \n",
    "    '''\n",
    "    A função recebe o conjunto de parametros e itera\n",
    "    entre as possibilidades de junções de cada um\n",
    "    '''\n",
    "    for params in product(*parameters.values()):\n",
    "        yield dict(zip(parameters.keys(), params))"
   ]
  },
  {
   "cell_type": "markdown",
   "id": "f09718f1",
   "metadata": {},
   "source": [
    "## 0.2 Carregamento de Dados"
   ]
  },
  {
   "cell_type": "code",
   "execution_count": 3,
   "id": "5aa2b090",
   "metadata": {},
   "outputs": [
    {
     "data": {
      "text/html": [
       "<div>\n",
       "<style scoped>\n",
       "    .dataframe tbody tr th:only-of-type {\n",
       "        vertical-align: middle;\n",
       "    }\n",
       "\n",
       "    .dataframe tbody tr th {\n",
       "        vertical-align: top;\n",
       "    }\n",
       "\n",
       "    .dataframe thead th {\n",
       "        text-align: right;\n",
       "    }\n",
       "</style>\n",
       "<table border=\"1\" class=\"dataframe\">\n",
       "  <thead>\n",
       "    <tr style=\"text-align: right;\">\n",
       "      <th></th>\n",
       "      <th>RowNumber</th>\n",
       "      <th>CustomerId</th>\n",
       "      <th>Surname</th>\n",
       "      <th>CreditScore</th>\n",
       "      <th>Geography</th>\n",
       "      <th>Gender</th>\n",
       "      <th>Age</th>\n",
       "      <th>Tenure</th>\n",
       "      <th>Balance</th>\n",
       "      <th>NumOfProducts</th>\n",
       "      <th>HasCrCard</th>\n",
       "      <th>IsActiveMember</th>\n",
       "      <th>EstimatedSalary</th>\n",
       "      <th>Exited</th>\n",
       "    </tr>\n",
       "  </thead>\n",
       "  <tbody>\n",
       "    <tr>\n",
       "      <th>0</th>\n",
       "      <td>1</td>\n",
       "      <td>15634602</td>\n",
       "      <td>Hargrave</td>\n",
       "      <td>619</td>\n",
       "      <td>France</td>\n",
       "      <td>Female</td>\n",
       "      <td>42</td>\n",
       "      <td>2</td>\n",
       "      <td>0.00</td>\n",
       "      <td>1</td>\n",
       "      <td>1</td>\n",
       "      <td>1</td>\n",
       "      <td>101348.88</td>\n",
       "      <td>1</td>\n",
       "    </tr>\n",
       "    <tr>\n",
       "      <th>1</th>\n",
       "      <td>2</td>\n",
       "      <td>15647311</td>\n",
       "      <td>Hill</td>\n",
       "      <td>608</td>\n",
       "      <td>Spain</td>\n",
       "      <td>Female</td>\n",
       "      <td>41</td>\n",
       "      <td>1</td>\n",
       "      <td>83807.86</td>\n",
       "      <td>1</td>\n",
       "      <td>0</td>\n",
       "      <td>1</td>\n",
       "      <td>112542.58</td>\n",
       "      <td>0</td>\n",
       "    </tr>\n",
       "    <tr>\n",
       "      <th>2</th>\n",
       "      <td>3</td>\n",
       "      <td>15619304</td>\n",
       "      <td>Onio</td>\n",
       "      <td>502</td>\n",
       "      <td>France</td>\n",
       "      <td>Female</td>\n",
       "      <td>42</td>\n",
       "      <td>8</td>\n",
       "      <td>159660.80</td>\n",
       "      <td>3</td>\n",
       "      <td>1</td>\n",
       "      <td>0</td>\n",
       "      <td>113931.57</td>\n",
       "      <td>1</td>\n",
       "    </tr>\n",
       "    <tr>\n",
       "      <th>3</th>\n",
       "      <td>4</td>\n",
       "      <td>15701354</td>\n",
       "      <td>Boni</td>\n",
       "      <td>699</td>\n",
       "      <td>France</td>\n",
       "      <td>Female</td>\n",
       "      <td>39</td>\n",
       "      <td>1</td>\n",
       "      <td>0.00</td>\n",
       "      <td>2</td>\n",
       "      <td>0</td>\n",
       "      <td>0</td>\n",
       "      <td>93826.63</td>\n",
       "      <td>0</td>\n",
       "    </tr>\n",
       "    <tr>\n",
       "      <th>4</th>\n",
       "      <td>5</td>\n",
       "      <td>15737888</td>\n",
       "      <td>Mitchell</td>\n",
       "      <td>850</td>\n",
       "      <td>Spain</td>\n",
       "      <td>Female</td>\n",
       "      <td>43</td>\n",
       "      <td>2</td>\n",
       "      <td>125510.82</td>\n",
       "      <td>1</td>\n",
       "      <td>1</td>\n",
       "      <td>1</td>\n",
       "      <td>79084.10</td>\n",
       "      <td>0</td>\n",
       "    </tr>\n",
       "  </tbody>\n",
       "</table>\n",
       "</div>"
      ],
      "text/plain": [
       "   RowNumber  CustomerId   Surname  CreditScore Geography  Gender  Age  \\\n",
       "0          1    15634602  Hargrave          619    France  Female   42   \n",
       "1          2    15647311      Hill          608     Spain  Female   41   \n",
       "2          3    15619304      Onio          502    France  Female   42   \n",
       "3          4    15701354      Boni          699    France  Female   39   \n",
       "4          5    15737888  Mitchell          850     Spain  Female   43   \n",
       "\n",
       "   Tenure    Balance  NumOfProducts  HasCrCard  IsActiveMember  \\\n",
       "0       2       0.00              1          1               1   \n",
       "1       1   83807.86              1          0               1   \n",
       "2       8  159660.80              3          1               0   \n",
       "3       1       0.00              2          0               0   \n",
       "4       2  125510.82              1          1               1   \n",
       "\n",
       "   EstimatedSalary  Exited  \n",
       "0        101348.88       1  \n",
       "1        112542.58       0  \n",
       "2        113931.57       1  \n",
       "3         93826.63       0  \n",
       "4         79084.10       0  "
      ]
     },
     "execution_count": 3,
     "metadata": {},
     "output_type": "execute_result"
    }
   ],
   "source": [
    "# loading data\n",
    "df = pd.read_csv('../data/Churn.csv')\n",
    "\n",
    "# show data\n",
    "df.head()"
   ]
  },
  {
   "cell_type": "markdown",
   "id": "55b9598b",
   "metadata": {},
   "source": [
    "# 1.0 DESCRIÇÃO DE DADOS"
   ]
  },
  {
   "cell_type": "markdown",
   "id": "a298fd90",
   "metadata": {},
   "source": [
    "## 1.1 Dimensão de Dados"
   ]
  },
  {
   "cell_type": "code",
   "execution_count": 4,
   "id": "44be1385",
   "metadata": {},
   "outputs": [
    {
     "name": "stdout",
     "output_type": "stream",
     "text": [
      "Nº Rows: 10000\n",
      "Nº Cols: 14\n"
     ]
    }
   ],
   "source": [
    "df1 = df.copy()\n",
    "\n",
    "print('Nº Rows:', df1.shape[0])\n",
    "print('Nº Cols:', df1.shape[1])"
   ]
  },
  {
   "cell_type": "markdown",
   "id": "2b74f8a1",
   "metadata": {},
   "source": [
    "## 1.2 Renomeação de Colunas"
   ]
  },
  {
   "cell_type": "code",
   "execution_count": 5,
   "id": "9f66e3da",
   "metadata": {},
   "outputs": [
    {
     "data": {
      "text/plain": [
       "Index(['row_number', 'customer_id', 'surname', 'credit_score', 'geography',\n",
       "       'gender', 'age', 'tenure', 'balance', 'num_of_products', 'has_cr_card',\n",
       "       'is_active_member', 'estimated_salary', 'exited'],\n",
       "      dtype='object')"
      ]
     },
     "execution_count": 5,
     "metadata": {},
     "output_type": "execute_result"
    }
   ],
   "source": [
    "# Columns to snakecase\n",
    "snakecase = lambda x: inflection.underscore(x)\n",
    "\n",
    "# New columns with snakecase\n",
    "new_columns = (map(snakecase, df1.columns))\n",
    "df1.columns = new_columns\n",
    "\n",
    "# show new columns\n",
    "df1.columns"
   ]
  },
  {
   "cell_type": "markdown",
   "id": "e899fcbe",
   "metadata": {},
   "source": [
    "## 1.3 Tipo de Dados"
   ]
  },
  {
   "cell_type": "code",
   "execution_count": 6,
   "id": "5b3d85a3",
   "metadata": {},
   "outputs": [
    {
     "data": {
      "text/plain": [
       "row_number            int64\n",
       "customer_id           int64\n",
       "surname              object\n",
       "credit_score          int64\n",
       "geography            object\n",
       "gender               object\n",
       "age                   int64\n",
       "tenure                int64\n",
       "balance             float64\n",
       "num_of_products       int64\n",
       "has_cr_card           int64\n",
       "is_active_member      int64\n",
       "estimated_salary    float64\n",
       "exited                int64\n",
       "dtype: object"
      ]
     },
     "execution_count": 6,
     "metadata": {},
     "output_type": "execute_result"
    }
   ],
   "source": [
    "# show data type\n",
    "df1.dtypes"
   ]
  },
  {
   "cell_type": "markdown",
   "id": "770bd08c",
   "metadata": {},
   "source": [
    "## 1.4 Verificação de Dados Faltantes"
   ]
  },
  {
   "cell_type": "code",
   "execution_count": 7,
   "id": "ce348428",
   "metadata": {},
   "outputs": [
    {
     "data": {
      "text/plain": [
       "row_number          0\n",
       "customer_id         0\n",
       "surname             0\n",
       "credit_score        0\n",
       "geography           0\n",
       "gender              0\n",
       "age                 0\n",
       "tenure              0\n",
       "balance             0\n",
       "num_of_products     0\n",
       "has_cr_card         0\n",
       "is_active_member    0\n",
       "estimated_salary    0\n",
       "exited              0\n",
       "dtype: int64"
      ]
     },
     "execution_count": 7,
     "metadata": {},
     "output_type": "execute_result"
    }
   ],
   "source": [
    "# show data NaN\n",
    "df1.isna().sum()"
   ]
  },
  {
   "cell_type": "markdown",
   "id": "9efdbbfc",
   "metadata": {},
   "source": [
    "## 1.5 Estatistica Descritiva"
   ]
  },
  {
   "cell_type": "markdown",
   "id": "e9c581f3",
   "metadata": {},
   "source": [
    "### 1.5.1 Variavel Numérica"
   ]
  },
  {
   "cell_type": "code",
   "execution_count": 8,
   "id": "fe0c723d",
   "metadata": {},
   "outputs": [
    {
     "data": {
      "text/html": [
       "<div>\n",
       "<style scoped>\n",
       "    .dataframe tbody tr th:only-of-type {\n",
       "        vertical-align: middle;\n",
       "    }\n",
       "\n",
       "    .dataframe tbody tr th {\n",
       "        vertical-align: top;\n",
       "    }\n",
       "\n",
       "    .dataframe thead th {\n",
       "        text-align: right;\n",
       "    }\n",
       "</style>\n",
       "<table border=\"1\" class=\"dataframe\">\n",
       "  <thead>\n",
       "    <tr style=\"text-align: right;\">\n",
       "      <th></th>\n",
       "      <th>count</th>\n",
       "      <th>mean</th>\n",
       "      <th>std</th>\n",
       "      <th>min</th>\n",
       "      <th>25%</th>\n",
       "      <th>50%</th>\n",
       "      <th>75%</th>\n",
       "      <th>max</th>\n",
       "    </tr>\n",
       "  </thead>\n",
       "  <tbody>\n",
       "    <tr>\n",
       "      <th>row_number</th>\n",
       "      <td>10000.0</td>\n",
       "      <td>5.000500e+03</td>\n",
       "      <td>2886.895680</td>\n",
       "      <td>1.00</td>\n",
       "      <td>2500.75</td>\n",
       "      <td>5.000500e+03</td>\n",
       "      <td>7.500250e+03</td>\n",
       "      <td>10000.00</td>\n",
       "    </tr>\n",
       "    <tr>\n",
       "      <th>customer_id</th>\n",
       "      <td>10000.0</td>\n",
       "      <td>1.569094e+07</td>\n",
       "      <td>71936.186123</td>\n",
       "      <td>15565701.00</td>\n",
       "      <td>15628528.25</td>\n",
       "      <td>1.569074e+07</td>\n",
       "      <td>1.575323e+07</td>\n",
       "      <td>15815690.00</td>\n",
       "    </tr>\n",
       "    <tr>\n",
       "      <th>credit_score</th>\n",
       "      <td>10000.0</td>\n",
       "      <td>6.505288e+02</td>\n",
       "      <td>96.653299</td>\n",
       "      <td>350.00</td>\n",
       "      <td>584.00</td>\n",
       "      <td>6.520000e+02</td>\n",
       "      <td>7.180000e+02</td>\n",
       "      <td>850.00</td>\n",
       "    </tr>\n",
       "    <tr>\n",
       "      <th>age</th>\n",
       "      <td>10000.0</td>\n",
       "      <td>3.892180e+01</td>\n",
       "      <td>10.487806</td>\n",
       "      <td>18.00</td>\n",
       "      <td>32.00</td>\n",
       "      <td>3.700000e+01</td>\n",
       "      <td>4.400000e+01</td>\n",
       "      <td>92.00</td>\n",
       "    </tr>\n",
       "    <tr>\n",
       "      <th>tenure</th>\n",
       "      <td>10000.0</td>\n",
       "      <td>5.012800e+00</td>\n",
       "      <td>2.892174</td>\n",
       "      <td>0.00</td>\n",
       "      <td>3.00</td>\n",
       "      <td>5.000000e+00</td>\n",
       "      <td>7.000000e+00</td>\n",
       "      <td>10.00</td>\n",
       "    </tr>\n",
       "    <tr>\n",
       "      <th>balance</th>\n",
       "      <td>10000.0</td>\n",
       "      <td>7.648589e+04</td>\n",
       "      <td>62397.405202</td>\n",
       "      <td>0.00</td>\n",
       "      <td>0.00</td>\n",
       "      <td>9.719854e+04</td>\n",
       "      <td>1.276442e+05</td>\n",
       "      <td>250898.09</td>\n",
       "    </tr>\n",
       "    <tr>\n",
       "      <th>num_of_products</th>\n",
       "      <td>10000.0</td>\n",
       "      <td>1.530200e+00</td>\n",
       "      <td>0.581654</td>\n",
       "      <td>1.00</td>\n",
       "      <td>1.00</td>\n",
       "      <td>1.000000e+00</td>\n",
       "      <td>2.000000e+00</td>\n",
       "      <td>4.00</td>\n",
       "    </tr>\n",
       "    <tr>\n",
       "      <th>has_cr_card</th>\n",
       "      <td>10000.0</td>\n",
       "      <td>7.055000e-01</td>\n",
       "      <td>0.455840</td>\n",
       "      <td>0.00</td>\n",
       "      <td>0.00</td>\n",
       "      <td>1.000000e+00</td>\n",
       "      <td>1.000000e+00</td>\n",
       "      <td>1.00</td>\n",
       "    </tr>\n",
       "    <tr>\n",
       "      <th>is_active_member</th>\n",
       "      <td>10000.0</td>\n",
       "      <td>5.151000e-01</td>\n",
       "      <td>0.499797</td>\n",
       "      <td>0.00</td>\n",
       "      <td>0.00</td>\n",
       "      <td>1.000000e+00</td>\n",
       "      <td>1.000000e+00</td>\n",
       "      <td>1.00</td>\n",
       "    </tr>\n",
       "    <tr>\n",
       "      <th>estimated_salary</th>\n",
       "      <td>10000.0</td>\n",
       "      <td>1.000902e+05</td>\n",
       "      <td>57510.492818</td>\n",
       "      <td>11.58</td>\n",
       "      <td>51002.11</td>\n",
       "      <td>1.001939e+05</td>\n",
       "      <td>1.493882e+05</td>\n",
       "      <td>199992.48</td>\n",
       "    </tr>\n",
       "    <tr>\n",
       "      <th>exited</th>\n",
       "      <td>10000.0</td>\n",
       "      <td>2.037000e-01</td>\n",
       "      <td>0.402769</td>\n",
       "      <td>0.00</td>\n",
       "      <td>0.00</td>\n",
       "      <td>0.000000e+00</td>\n",
       "      <td>0.000000e+00</td>\n",
       "      <td>1.00</td>\n",
       "    </tr>\n",
       "  </tbody>\n",
       "</table>\n",
       "</div>"
      ],
      "text/plain": [
       "                    count          mean           std          min  \\\n",
       "row_number        10000.0  5.000500e+03   2886.895680         1.00   \n",
       "customer_id       10000.0  1.569094e+07  71936.186123  15565701.00   \n",
       "credit_score      10000.0  6.505288e+02     96.653299       350.00   \n",
       "age               10000.0  3.892180e+01     10.487806        18.00   \n",
       "tenure            10000.0  5.012800e+00      2.892174         0.00   \n",
       "balance           10000.0  7.648589e+04  62397.405202         0.00   \n",
       "num_of_products   10000.0  1.530200e+00      0.581654         1.00   \n",
       "has_cr_card       10000.0  7.055000e-01      0.455840         0.00   \n",
       "is_active_member  10000.0  5.151000e-01      0.499797         0.00   \n",
       "estimated_salary  10000.0  1.000902e+05  57510.492818        11.58   \n",
       "exited            10000.0  2.037000e-01      0.402769         0.00   \n",
       "\n",
       "                          25%           50%           75%          max  \n",
       "row_number            2500.75  5.000500e+03  7.500250e+03     10000.00  \n",
       "customer_id       15628528.25  1.569074e+07  1.575323e+07  15815690.00  \n",
       "credit_score           584.00  6.520000e+02  7.180000e+02       850.00  \n",
       "age                     32.00  3.700000e+01  4.400000e+01        92.00  \n",
       "tenure                   3.00  5.000000e+00  7.000000e+00        10.00  \n",
       "balance                  0.00  9.719854e+04  1.276442e+05    250898.09  \n",
       "num_of_products          1.00  1.000000e+00  2.000000e+00         4.00  \n",
       "has_cr_card              0.00  1.000000e+00  1.000000e+00         1.00  \n",
       "is_active_member         0.00  1.000000e+00  1.000000e+00         1.00  \n",
       "estimated_salary     51002.11  1.001939e+05  1.493882e+05    199992.48  \n",
       "exited                   0.00  0.000000e+00  0.000000e+00         1.00  "
      ]
     },
     "execution_count": 8,
     "metadata": {},
     "output_type": "execute_result"
    }
   ],
   "source": [
    "# show data description \n",
    "df1.describe().T"
   ]
  },
  {
   "cell_type": "markdown",
   "id": "1d958604",
   "metadata": {},
   "source": [
    "**Insight:**\n",
    "\n",
    "<ins>Distribuição</ins>: \n",
    "\n",
    "<ins>Negócio</ins>:"
   ]
  },
  {
   "cell_type": "markdown",
   "id": "03faa132",
   "metadata": {},
   "source": [
    "### 1.5.2 Variavel Categórica"
   ]
  },
  {
   "cell_type": "code",
   "execution_count": 9,
   "id": "58c148f3",
   "metadata": {},
   "outputs": [
    {
     "data": {
      "image/png": "[encoded data removed]",
      "text/plain": [
       "<Figure size 1080x360 with 1 Axes>"
      ]
     },
     "metadata": {
      "needs_background": "light"
     },
     "output_type": "display_data"
    }
   ],
   "source": [
    "categorical = df1.select_dtypes(include=['object']) # filter categorical\n",
    "qty_values = categorical.apply(lambda x: len(x.unique())).reset_index().rename(columns={0: 'values'}) # count unique values\n",
    "\n",
    "# Create figure\n",
    "plt.figure(figsize=(15, 5))\n",
    "sns.barplot(x='index', y='values', data=qty_values)\n",
    "plt.title('Valores Únicos Categóricos')\n",
    "sns.despine(right=True);"
   ]
  },
  {
   "cell_type": "markdown",
   "id": "f2fdba6c",
   "metadata": {},
   "source": [
    "**Insight:**\n",
    "\n",
    "No geral, as variaveis categóricas não posuem um grande range de possíveis valores, com exceção de Surname que contém cerca de 3 mil."
   ]
  },
  {
   "cell_type": "markdown",
   "id": "a21d31d2",
   "metadata": {},
   "source": [
    "# 2.0 FEATURE ENGINEERING"
   ]
  },
  {
   "cell_type": "markdown",
   "id": "09bba0d8",
   "metadata": {},
   "source": [
    "## 2.1 Mapa Mental de Hipóteses"
   ]
  },
  {
   "cell_type": "markdown",
   "id": "44af30c1",
   "metadata": {},
   "source": [
    "<p align=\"center\">\n",
    "  <img src=\"../img/mind_map_cycle2.png\" width=\"1000\" title=\"mind_map\">\n",
    "</p>"
   ]
  },
  {
   "cell_type": "markdown",
   "id": "8a6cca75",
   "metadata": {},
   "source": [
    "## 2.2 Hipóteses"
   ]
  },
  {
   "cell_type": "markdown",
   "id": "5b931261",
   "metadata": {},
   "source": [
    "### 2.2.1 Hipóteses Clientes"
   ]
  },
  {
   "cell_type": "markdown",
   "id": "82036448",
   "metadata": {},
   "source": [
    "**1.** Clientes com menor Score, entram mais em Churn.\n",
    "\n",
    "**2.** Clientes localizados na Alemanha, entram mais Churn.\n",
    "\n",
    "**3.** Clientes do sexo Masculino, dão mais Churn.\n",
    "\n",
    "**4.** Clientes acima de 40 anos, dão mais Churn.\n",
    "\n",
    "**5.** Clientes com Salarios menor que a mediana, entram mais em Churn."
   ]
  },
  {
   "cell_type": "markdown",
   "id": "4973d454",
   "metadata": {},
   "source": [
    "### 2.2.2 Hipóteses Atividade"
   ]
  },
  {
   "cell_type": "markdown",
   "id": "b3939ecb",
   "metadata": {},
   "source": [
    "**1.** Clientes que não fizeram movimentações nos ultimos 12 meses, entram mais em Churn.\n",
    "\n",
    "**2.** Clientes que compraram menos de 2 produtos, entram mais em Churn. \n",
    "\n",
    "**3.** Clientes que permaneceram ativos por menos de 3 anos, entram mais em Churn.\n",
    "\n",
    "**4.** Clientes que ficam com a conta zerada, entram mais em Churn.\n",
    "\n",
    "**5.** Clientes que possuem valor menor que a mediana na conta, entram mais em Churn.\n",
    "\n",
    "**6.** Clientes que não possuem cartão de crédito, entram mais em Churn."
   ]
  },
  {
   "cell_type": "markdown",
   "id": "09bdac91",
   "metadata": {},
   "source": [
    "## 2.3 Feature Engineering "
   ]
  },
  {
   "cell_type": "code",
   "execution_count": 10,
   "id": "77494d9d",
   "metadata": {},
   "outputs": [],
   "source": [
    "df2 = df1.copy()\n",
    "\n",
    "# H1\n",
    "df2['credit_score_category']= df2['credit_score'].apply(lambda x: 'ruim' if x > 300 and x <= 500 else 'regular'\n",
    "                                                                         if x > 500 and x <= 700 else 'bom')\n",
    "# H4\n",
    "df2['category_age'] = df2['age'].apply(lambda x: '>= 40' if x > 40 else '< 40')\n",
    "\n",
    "\n",
    "# H5 **5.** Clientes com Salarios menor que a mediana, entram mais em Churn.\n",
    "MEDIAN_SALARY = df2['estimated_salary'].median()\n",
    "df2['category_salary'] = df2['estimated_salary'].apply(lambda x: 'higher salary' if x > MEDIAN_SALARY else 'lower salary')\n",
    "\n",
    "\n",
    "# **2.** Clientes que compraram menos de 2 produtos, entram mais em Churn. \n",
    "df2['num_of_products_category'] = df2['num_of_products'].apply(lambda x: '< 2' if x < 2 else '>= 2')\n",
    "\n",
    "\n",
    "# **3.** Clientes que permaneceram ativos por menos de 3 anos, entram mais em Churn.\n",
    "df2['tenure_category'] = df2['tenure'].apply(lambda x: '< 3' if x < 3 else '>= 3')\n",
    "\n",
    "\n",
    "# **4.** Clientes que ficam com a conta zerada, entram mais em Churn.\n",
    "df2['balance_zero'] = df2['balance'].apply(lambda x: 'zero' if x == 0.0 else 'not zero')\n",
    "\n",
    "\n",
    "# **5.** Clientes que possuem valor menor que a mediana na conta, entram mais em Churn.\n",
    "MEDIAN_BALANCE = df2['balance'].median()\n",
    "df2['category_balance'] = df2['balance'].apply(lambda x: 'higher balance' if x > MEDIAN_BALANCE else 'lower balance')\n",
    "\n",
    "\n",
    "\n",
    "\n",
    "# cycle 3: add aquisition power"
   ]
  },
  {
   "cell_type": "markdown",
   "id": "cd9051b9",
   "metadata": {},
   "source": [
    "# 3.0 FILTRAGEM DE DADOS"
   ]
  },
  {
   "cell_type": "markdown",
   "id": "d9d30087",
   "metadata": {},
   "source": [
    "## 3.1 Remoção de Colunas"
   ]
  },
  {
   "cell_type": "code",
   "execution_count": 12,
   "id": "44e76f19",
   "metadata": {},
   "outputs": [],
   "source": [
    "df2.drop(columns=['row_number', 'surname', 'customer_id'], inplace=True)"
   ]
  },
  {
   "cell_type": "markdown",
   "id": "e588fb6f",
   "metadata": {},
   "source": [
    "# 4.0 EDA"
   ]
  },
  {
   "cell_type": "markdown",
   "id": "09ac1dac",
   "metadata": {},
   "source": [
    "## 4.1 Análise Univariada"
   ]
  },
  {
   "cell_type": "markdown",
   "id": "e739b1ff",
   "metadata": {},
   "source": [
    "### 4.1.1 Variavel Target"
   ]
  },
  {
   "cell_type": "code",
   "execution_count": 13,
   "id": "13c67532",
   "metadata": {},
   "outputs": [
    {
     "data": {
      "image/png": "[encoded data removed]",
      "text/plain": [
       "<Figure size 1080x360 with 1 Axes>"
      ]
     },
     "metadata": {
      "needs_background": "light"
     },
     "output_type": "display_data"
    }
   ],
   "source": [
    "df4 = df2.copy()\n",
    "\n",
    "plt.figure(figsize=(15, 5))\n",
    "sns.countplot(x='exited', data=df4)\n",
    "plt.title('Is Churn - Target')\n",
    "plt.ylabel('Qauntity')\n",
    "sns.despine(right=True)"
   ]
  },
  {
   "cell_type": "markdown",
   "id": "0104bec8",
   "metadata": {},
   "source": [
    "**Insight:**"
   ]
  },
  {
   "cell_type": "markdown",
   "id": "2b2d4a13",
   "metadata": {},
   "source": [
    "### 4.1.2 Variavel Numérica"
   ]
  },
  {
   "cell_type": "code",
   "execution_count": 54,
   "id": "6bee3194",
   "metadata": {},
   "outputs": [
    {
     "data": {
      "image/png": "[encoded data removed]",
      "text/plain": [
       "<Figure size 1080x864 with 9 Axes>"
      ]
     },
     "metadata": {
      "needs_background": "light"
     },
     "output_type": "display_data"
    }
   ],
   "source": [
    "num = df4.select_dtypes(include=['int64', 'float64'])\n",
    "\n",
    "num.hist(figsize=(15, 12), grid=False, bins=25, ec='k')\n",
    "plt.suptitle('Distribuição - Variavel Numérica')\n",
    "sns.despine(right=True);"
   ]
  },
  {
   "cell_type": "markdown",
   "id": "27033e4e",
   "metadata": {},
   "source": [
    "**Insight:**"
   ]
  },
  {
   "cell_type": "code",
   "execution_count": 55,
   "id": "2a8a8d19",
   "metadata": {},
   "outputs": [
    {
     "data": {
      "image/png": "[encoded data removed]",
      "text/plain": [
       "<Figure size 1080x720 with 3 Axes>"
      ]
     },
     "metadata": {
      "needs_background": "light"
     },
     "output_type": "display_data"
    },
    {
     "data": {
      "image/png": "[encoded data removed]",
      "text/plain": [
       "<Figure size 1080x720 with 3 Axes>"
      ]
     },
     "metadata": {
      "needs_background": "light"
     },
     "output_type": "display_data"
    }
   ],
   "source": [
    "plot_box(x1='credit_score', x2='age', x3='tenure', df=num)\n",
    "plt.suptitle('Outliers - Variaveis Numéricas')\n",
    "\n",
    "plot_box(x1='balance', x2='num_of_products', x3='estimated_salary', df=num)"
   ]
  },
  {
   "cell_type": "markdown",
   "id": "1d36a17d",
   "metadata": {},
   "source": [
    "**Insight:**"
   ]
  },
  {
   "cell_type": "markdown",
   "id": "836a04f7",
   "metadata": {},
   "source": [
    "### 4.1.1 Variavel Categórica"
   ]
  },
  {
   "cell_type": "code",
   "execution_count": 56,
   "id": "aa40f335",
   "metadata": {},
   "outputs": [
    {
     "ename": "KeyError",
     "evalue": "\"['surname'] not found in axis\"",
     "output_type": "error",
     "traceback": [
      "\u001b[1;31m---------------------------------------------------------------------------\u001b[0m",
      "\u001b[1;31mKeyError\u001b[0m                                  Traceback (most recent call last)",
      "\u001b[1;32mC:\\Users\\JHONAT~1\\AppData\\Local\\Temp/ipykernel_5964/535393650.py\u001b[0m in \u001b[0;36m<module>\u001b[1;34m\u001b[0m\n\u001b[1;32m----> 1\u001b[1;33m \u001b[0mcat\u001b[0m \u001b[1;33m=\u001b[0m \u001b[0mdf4\u001b[0m\u001b[1;33m.\u001b[0m\u001b[0mselect_dtypes\u001b[0m\u001b[1;33m(\u001b[0m\u001b[0minclude\u001b[0m\u001b[1;33m=\u001b[0m\u001b[1;33m[\u001b[0m\u001b[1;34m'object'\u001b[0m\u001b[1;33m]\u001b[0m\u001b[1;33m)\u001b[0m\u001b[1;33m.\u001b[0m\u001b[0mdrop\u001b[0m\u001b[1;33m(\u001b[0m\u001b[0mcolumns\u001b[0m\u001b[1;33m=\u001b[0m\u001b[1;34m'surname'\u001b[0m\u001b[1;33m)\u001b[0m\u001b[1;33m\u001b[0m\u001b[1;33m\u001b[0m\u001b[0m\n\u001b[0m\u001b[0;32m      2\u001b[0m \u001b[1;33m\u001b[0m\u001b[0m\n\u001b[0;32m      3\u001b[0m \u001b[0mplot_bar\u001b[0m\u001b[1;33m(\u001b[0m\u001b[0mx1\u001b[0m\u001b[1;33m=\u001b[0m\u001b[1;34m'geography'\u001b[0m\u001b[1;33m,\u001b[0m \u001b[0mx2\u001b[0m\u001b[1;33m=\u001b[0m\u001b[1;34m'gender'\u001b[0m\u001b[1;33m,\u001b[0m \u001b[0mx3\u001b[0m\u001b[1;33m=\u001b[0m\u001b[1;34m'credit_score_category'\u001b[0m\u001b[1;33m,\u001b[0m \u001b[0mdf\u001b[0m\u001b[1;33m=\u001b[0m\u001b[0mcat\u001b[0m\u001b[1;33m)\u001b[0m\u001b[1;33m\u001b[0m\u001b[1;33m\u001b[0m\u001b[0m\n\u001b[0;32m      4\u001b[0m \u001b[0mplt\u001b[0m\u001b[1;33m.\u001b[0m\u001b[0msuptitle\u001b[0m\u001b[1;33m(\u001b[0m\u001b[1;34m'Distribuição - Variavel Categórica'\u001b[0m\u001b[1;33m)\u001b[0m\u001b[1;33m;\u001b[0m\u001b[1;33m\u001b[0m\u001b[1;33m\u001b[0m\u001b[0m\n\u001b[0;32m      5\u001b[0m \u001b[1;33m\u001b[0m\u001b[0m\n",
      "\u001b[1;32mc:\\users\\jhonatans\\appdata\\local\\programs\\python\\python39\\lib\\site-packages\\pandas\\util\\_decorators.py\u001b[0m in \u001b[0;36mwrapper\u001b[1;34m(*args, **kwargs)\u001b[0m\n\u001b[0;32m    309\u001b[0m                     \u001b[0mstacklevel\u001b[0m\u001b[1;33m=\u001b[0m\u001b[0mstacklevel\u001b[0m\u001b[1;33m,\u001b[0m\u001b[1;33m\u001b[0m\u001b[1;33m\u001b[0m\u001b[0m\n\u001b[0;32m    310\u001b[0m                 )\n\u001b[1;32m--> 311\u001b[1;33m             \u001b[1;32mreturn\u001b[0m \u001b[0mfunc\u001b[0m\u001b[1;33m(\u001b[0m\u001b[1;33m*\u001b[0m\u001b[0margs\u001b[0m\u001b[1;33m,\u001b[0m \u001b[1;33m**\u001b[0m\u001b[0mkwargs\u001b[0m\u001b[1;33m)\u001b[0m\u001b[1;33m\u001b[0m\u001b[1;33m\u001b[0m\u001b[0m\n\u001b[0m\u001b[0;32m    312\u001b[0m \u001b[1;33m\u001b[0m\u001b[0m\n\u001b[0;32m    313\u001b[0m         \u001b[1;32mreturn\u001b[0m \u001b[0mwrapper\u001b[0m\u001b[1;33m\u001b[0m\u001b[1;33m\u001b[0m\u001b[0m\n",
      "\u001b[1;32mc:\\users\\jhonatans\\appdata\\local\\programs\\python\\python39\\lib\\site-packages\\pandas\\core\\frame.py\u001b[0m in \u001b[0;36mdrop\u001b[1;34m(self, labels, axis, index, columns, level, inplace, errors)\u001b[0m\n\u001b[0;32m   4899\u001b[0m                 \u001b[0mweight\u001b[0m  \u001b[1;36m1.0\u001b[0m     \u001b[1;36m0.8\u001b[0m\u001b[1;33m\u001b[0m\u001b[1;33m\u001b[0m\u001b[0m\n\u001b[0;32m   4900\u001b[0m         \"\"\"\n\u001b[1;32m-> 4901\u001b[1;33m         return super().drop(\n\u001b[0m\u001b[0;32m   4902\u001b[0m             \u001b[0mlabels\u001b[0m\u001b[1;33m=\u001b[0m\u001b[0mlabels\u001b[0m\u001b[1;33m,\u001b[0m\u001b[1;33m\u001b[0m\u001b[1;33m\u001b[0m\u001b[0m\n\u001b[0;32m   4903\u001b[0m             \u001b[0maxis\u001b[0m\u001b[1;33m=\u001b[0m\u001b[0maxis\u001b[0m\u001b[1;33m,\u001b[0m\u001b[1;33m\u001b[0m\u001b[1;33m\u001b[0m\u001b[0m\n",
      "\u001b[1;32mc:\\users\\jhonatans\\appdata\\local\\programs\\python\\python39\\lib\\site-packages\\pandas\\core\\generic.py\u001b[0m in \u001b[0;36mdrop\u001b[1;34m(self, labels, axis, index, columns, level, inplace, errors)\u001b[0m\n\u001b[0;32m   4145\u001b[0m         \u001b[1;32mfor\u001b[0m \u001b[0maxis\u001b[0m\u001b[1;33m,\u001b[0m \u001b[0mlabels\u001b[0m \u001b[1;32min\u001b[0m \u001b[0maxes\u001b[0m\u001b[1;33m.\u001b[0m\u001b[0mitems\u001b[0m\u001b[1;33m(\u001b[0m\u001b[1;33m)\u001b[0m\u001b[1;33m:\u001b[0m\u001b[1;33m\u001b[0m\u001b[1;33m\u001b[0m\u001b[0m\n\u001b[0;32m   4146\u001b[0m             \u001b[1;32mif\u001b[0m \u001b[0mlabels\u001b[0m \u001b[1;32mis\u001b[0m \u001b[1;32mnot\u001b[0m \u001b[1;32mNone\u001b[0m\u001b[1;33m:\u001b[0m\u001b[1;33m\u001b[0m\u001b[1;33m\u001b[0m\u001b[0m\n\u001b[1;32m-> 4147\u001b[1;33m                 \u001b[0mobj\u001b[0m \u001b[1;33m=\u001b[0m \u001b[0mobj\u001b[0m\u001b[1;33m.\u001b[0m\u001b[0m_drop_axis\u001b[0m\u001b[1;33m(\u001b[0m\u001b[0mlabels\u001b[0m\u001b[1;33m,\u001b[0m \u001b[0maxis\u001b[0m\u001b[1;33m,\u001b[0m \u001b[0mlevel\u001b[0m\u001b[1;33m=\u001b[0m\u001b[0mlevel\u001b[0m\u001b[1;33m,\u001b[0m \u001b[0merrors\u001b[0m\u001b[1;33m=\u001b[0m\u001b[0merrors\u001b[0m\u001b[1;33m)\u001b[0m\u001b[1;33m\u001b[0m\u001b[1;33m\u001b[0m\u001b[0m\n\u001b[0m\u001b[0;32m   4148\u001b[0m \u001b[1;33m\u001b[0m\u001b[0m\n\u001b[0;32m   4149\u001b[0m         \u001b[1;32mif\u001b[0m \u001b[0minplace\u001b[0m\u001b[1;33m:\u001b[0m\u001b[1;33m\u001b[0m\u001b[1;33m\u001b[0m\u001b[0m\n",
      "\u001b[1;32mc:\\users\\jhonatans\\appdata\\local\\programs\\python\\python39\\lib\\site-packages\\pandas\\core\\generic.py\u001b[0m in \u001b[0;36m_drop_axis\u001b[1;34m(self, labels, axis, level, errors)\u001b[0m\n\u001b[0;32m   4180\u001b[0m                 \u001b[0mnew_axis\u001b[0m \u001b[1;33m=\u001b[0m \u001b[0maxis\u001b[0m\u001b[1;33m.\u001b[0m\u001b[0mdrop\u001b[0m\u001b[1;33m(\u001b[0m\u001b[0mlabels\u001b[0m\u001b[1;33m,\u001b[0m \u001b[0mlevel\u001b[0m\u001b[1;33m=\u001b[0m\u001b[0mlevel\u001b[0m\u001b[1;33m,\u001b[0m \u001b[0merrors\u001b[0m\u001b[1;33m=\u001b[0m\u001b[0merrors\u001b[0m\u001b[1;33m)\u001b[0m\u001b[1;33m\u001b[0m\u001b[1;33m\u001b[0m\u001b[0m\n\u001b[0;32m   4181\u001b[0m             \u001b[1;32melse\u001b[0m\u001b[1;33m:\u001b[0m\u001b[1;33m\u001b[0m\u001b[1;33m\u001b[0m\u001b[0m\n\u001b[1;32m-> 4182\u001b[1;33m                 \u001b[0mnew_axis\u001b[0m \u001b[1;33m=\u001b[0m \u001b[0maxis\u001b[0m\u001b[1;33m.\u001b[0m\u001b[0mdrop\u001b[0m\u001b[1;33m(\u001b[0m\u001b[0mlabels\u001b[0m\u001b[1;33m,\u001b[0m \u001b[0merrors\u001b[0m\u001b[1;33m=\u001b[0m\u001b[0merrors\u001b[0m\u001b[1;33m)\u001b[0m\u001b[1;33m\u001b[0m\u001b[1;33m\u001b[0m\u001b[0m\n\u001b[0m\u001b[0;32m   4183\u001b[0m             \u001b[0mresult\u001b[0m \u001b[1;33m=\u001b[0m \u001b[0mself\u001b[0m\u001b[1;33m.\u001b[0m\u001b[0mreindex\u001b[0m\u001b[1;33m(\u001b[0m\u001b[1;33m**\u001b[0m\u001b[1;33m{\u001b[0m\u001b[0maxis_name\u001b[0m\u001b[1;33m:\u001b[0m \u001b[0mnew_axis\u001b[0m\u001b[1;33m}\u001b[0m\u001b[1;33m)\u001b[0m\u001b[1;33m\u001b[0m\u001b[1;33m\u001b[0m\u001b[0m\n\u001b[0;32m   4184\u001b[0m \u001b[1;33m\u001b[0m\u001b[0m\n",
      "\u001b[1;32mc:\\users\\jhonatans\\appdata\\local\\programs\\python\\python39\\lib\\site-packages\\pandas\\core\\indexes\\base.py\u001b[0m in \u001b[0;36mdrop\u001b[1;34m(self, labels, errors)\u001b[0m\n\u001b[0;32m   6016\u001b[0m         \u001b[1;32mif\u001b[0m \u001b[0mmask\u001b[0m\u001b[1;33m.\u001b[0m\u001b[0many\u001b[0m\u001b[1;33m(\u001b[0m\u001b[1;33m)\u001b[0m\u001b[1;33m:\u001b[0m\u001b[1;33m\u001b[0m\u001b[1;33m\u001b[0m\u001b[0m\n\u001b[0;32m   6017\u001b[0m             \u001b[1;32mif\u001b[0m \u001b[0merrors\u001b[0m \u001b[1;33m!=\u001b[0m \u001b[1;34m\"ignore\"\u001b[0m\u001b[1;33m:\u001b[0m\u001b[1;33m\u001b[0m\u001b[1;33m\u001b[0m\u001b[0m\n\u001b[1;32m-> 6018\u001b[1;33m                 \u001b[1;32mraise\u001b[0m \u001b[0mKeyError\u001b[0m\u001b[1;33m(\u001b[0m\u001b[1;34mf\"{labels[mask]} not found in axis\"\u001b[0m\u001b[1;33m)\u001b[0m\u001b[1;33m\u001b[0m\u001b[1;33m\u001b[0m\u001b[0m\n\u001b[0m\u001b[0;32m   6019\u001b[0m             \u001b[0mindexer\u001b[0m \u001b[1;33m=\u001b[0m \u001b[0mindexer\u001b[0m\u001b[1;33m[\u001b[0m\u001b[1;33m~\u001b[0m\u001b[0mmask\u001b[0m\u001b[1;33m]\u001b[0m\u001b[1;33m\u001b[0m\u001b[1;33m\u001b[0m\u001b[0m\n\u001b[0;32m   6020\u001b[0m         \u001b[1;32mreturn\u001b[0m \u001b[0mself\u001b[0m\u001b[1;33m.\u001b[0m\u001b[0mdelete\u001b[0m\u001b[1;33m(\u001b[0m\u001b[0mindexer\u001b[0m\u001b[1;33m)\u001b[0m\u001b[1;33m\u001b[0m\u001b[1;33m\u001b[0m\u001b[0m\n",
      "\u001b[1;31mKeyError\u001b[0m: \"['surname'] not found in axis\""
     ]
    }
   ],
   "source": [
    "cat = df4.select_dtypes(include=['object']).drop(columns='surname')\n",
    "\n",
    "plot_bar(x1='geography', x2='gender', x3='credit_score_category', df=cat)\n",
    "plt.suptitle('Distribuição - Variavel Categórica');\n",
    "\n",
    "plot_bar(x1='category_age', x2='category_salary', x3='num_of_products_category', df=cat)\n",
    "plot_bar(x1='tenure_category', x2='balance_zero', x3='category_balance', df=cat)"
   ]
  },
  {
   "cell_type": "markdown",
   "id": "cd92a444",
   "metadata": {},
   "source": [
    "**Insight:**"
   ]
  },
  {
   "cell_type": "markdown",
   "id": "fa325178",
   "metadata": {},
   "source": [
    "## 4.2 Análise Bivariada"
   ]
  },
  {
   "cell_type": "markdown",
   "id": "4b2ab12e",
   "metadata": {},
   "source": [
    "### **H1.** Clientes com Score ruim/menor, entram mais em Churn.\n",
    "\n",
    "**FALSA** Clientes com Score <ins>Regular</ins>, entram mais em Churn."
   ]
  },
  {
   "cell_type": "code",
   "execution_count": null,
   "id": "4cfbaece",
   "metadata": {},
   "outputs": [],
   "source": [
    "plt.figure(figsize=(15, 5))\n",
    "plt.subplot(1, 2, 1)\n",
    "sns.kdeplot(x=df4[df4['exited'] == 1]['credit_score'], label='Churn', shade=True, color='red')\n",
    "sns.kdeplot(x=df4[df4['exited'] == 0]['credit_score'], label='Not Churn', shade=True, color='green')\n",
    "sns.despine(right=True)\n",
    "plt.legend()\n",
    "\n",
    "plt.subplot(1, 2, 2)\n",
    "sns.countplot(x='credit_score_category', hue='exited', data=df4)\n",
    "sns.despine(right=True);"
   ]
  },
  {
   "cell_type": "markdown",
   "id": "1da329cd",
   "metadata": {},
   "source": [
    "### **H2.** Clientes localizados na Alemanha, entram mais em Churn.\n",
    "\n",
    "**VERDADEIRA** Clientes localizados na <ins>Alemanha</ins>, entram mais em Churn."
   ]
  },
  {
   "cell_type": "code",
   "execution_count": null,
   "id": "ceb2b3e9",
   "metadata": {},
   "outputs": [],
   "source": [
    "plt.figure(figsize=(15, 5))\n",
    "sns.countplot(x='geography', hue='exited', data=df4)\n",
    "sns.despine(right=True)"
   ]
  },
  {
   "cell_type": "markdown",
   "id": "3dc7b42e",
   "metadata": {},
   "source": [
    "### **H3.** Clientes do sexo Masculino, entram mais em Churn.\n",
    "\n",
    "**FALSA** Clientes do sexo <ins>Feminino</ins>, entram mais em Churn"
   ]
  },
  {
   "cell_type": "code",
   "execution_count": null,
   "id": "9c3e43b6",
   "metadata": {},
   "outputs": [],
   "source": [
    "plt.figure(figsize=(15, 5))\n",
    "sns.countplot(x='gender', data=df4, hue='exited', dodge=False)\n",
    "sns.despine(right=True)"
   ]
  },
  {
   "cell_type": "markdown",
   "id": "833a41e9",
   "metadata": {},
   "source": [
    "### **H4.** Clientes acima de 40 anos, entram mais em Churn.\n",
    "\n",
    "**VERDADEIRA** Clientes <ins>acima</ins> de 40 anos, entram mais em Churn."
   ]
  },
  {
   "cell_type": "code",
   "execution_count": null,
   "id": "306831e1",
   "metadata": {},
   "outputs": [],
   "source": [
    "plt.figure(figsize=(15, 10))\n",
    "plt.subplot(2, 1, 1)\n",
    "sns.countplot(x='age', data=df4, hue='exited', dodge=False)\n",
    "sns.despine(right=True)\n",
    "\n",
    "plt.subplot(2, 1, 2)\n",
    "sns.countplot(x='category_age', data=df4, hue='exited')\n",
    "sns.despine(right=True);"
   ]
  },
  {
   "cell_type": "markdown",
   "id": "a8f92a3e",
   "metadata": {},
   "source": [
    "### **H**5. Clientes que não fizeram movimentações nos ultimos 12 meses, entram mais em Churn.\n",
    "\n",
    "**VERDADEIRA** Clientes que <ins>não fizeram</ins> movimentações nos ultimos 12 meses, entram mais em Churn."
   ]
  },
  {
   "cell_type": "code",
   "execution_count": 57,
   "id": "b1a02eb4",
   "metadata": {},
   "outputs": [
    {
     "data": {
      "image/png": "[encoded data removed]",
      "text/plain": [
       "<Figure size 1080x360 with 1 Axes>"
      ]
     },
     "metadata": {
      "needs_background": "light"
     },
     "output_type": "display_data"
    }
   ],
   "source": [
    "plt.figure(figsize=(15, 5))\n",
    "sns.countplot(x='is_active_member', hue='exited', data=df4)\n",
    "sns.despine(right=True)"
   ]
  },
  {
   "cell_type": "markdown",
   "id": "24a2e0c7",
   "metadata": {},
   "source": [
    "### H6.  Clientes que compraram menos de 2 produtos, entram mais em Churn. \n",
    "\n",
    "**VERDADEIRA** Clientes que compraram <ins>menos</ins> de 2 produtos, entram mais em Churn. "
   ]
  },
  {
   "cell_type": "code",
   "execution_count": 58,
   "id": "4f599ead",
   "metadata": {},
   "outputs": [
    {
     "data": {
      "image/png": "[encoded data removed]",
      "text/plain": [
       "<Figure size 1080x360 with 2 Axes>"
      ]
     },
     "metadata": {
      "needs_background": "light"
     },
     "output_type": "display_data"
    }
   ],
   "source": [
    "plt.figure(figsize=(15, 5))\n",
    "plt.subplot(1, 2, 1)\n",
    "sns.countplot(x='num_of_products_category', hue='exited', data=df4)\n",
    "sns.despine(right=True)\n",
    "\n",
    "plt.subplot(1, 2, 2)\n",
    "sns.countplot(x='num_of_products', hue='exited', data=df4)\n",
    "sns.despine(right=True)"
   ]
  },
  {
   "cell_type": "markdown",
   "id": "6e5e8124",
   "metadata": {},
   "source": [
    "### **H7.** Clientes que permaneceram ativos por menos de 3 anos, entram mais em Churn.\n",
    "\n",
    "**VERDADEIRO** Clientes que permaneceram ativos por menos de 3 anos, entram mais em Churn."
   ]
  },
  {
   "cell_type": "code",
   "execution_count": 59,
   "id": "f7c1a728",
   "metadata": {},
   "outputs": [
    {
     "data": {
      "image/png": "[encoded data removed]",
      "text/plain": [
       "<Figure size 1080x360 with 2 Axes>"
      ]
     },
     "metadata": {
      "needs_background": "light"
     },
     "output_type": "display_data"
    }
   ],
   "source": [
    "plt.figure(figsize=(15, 5))\n",
    "plt.subplot(1, 2, 1)\n",
    "sns.countplot(x='tenure_category', hue='exited', data=df4)\n",
    "sns.despine(right=True)\n",
    "\n",
    "plt.subplot(1, 2, 2)\n",
    "sns.countplot(x='tenure', hue='exited', data=df4, dodge=False)\n",
    "sns.despine(right=True)"
   ]
  },
  {
   "cell_type": "markdown",
   "id": "e4778c40",
   "metadata": {},
   "source": [
    "### **H8.** Clientes que ficam com a conta zerada, entram mais em Churn.\n",
    "\n",
    "**FALSA** Clientes que <ins>não ficam</ins> com a conta zerada, entram mais em Churn."
   ]
  },
  {
   "cell_type": "code",
   "execution_count": 60,
   "id": "ae4133a4",
   "metadata": {},
   "outputs": [
    {
     "data": {
      "image/png": "[encoded data removed]",
      "text/plain": [
       "<Figure size 1080x360 with 1 Axes>"
      ]
     },
     "metadata": {
      "needs_background": "light"
     },
     "output_type": "display_data"
    }
   ],
   "source": [
    "plt.figure(figsize=(15, 5))\n",
    "sns.countplot(x='balance_zero', hue='exited', data=df4)\n",
    "sns.despine(right=True)"
   ]
  },
  {
   "cell_type": "markdown",
   "id": "bfed83da",
   "metadata": {},
   "source": [
    "### **H9.** Clientes que possuem valor menor que a mediana na conta, entram mais em Churn. \n",
    "\n",
    "**FALSA** Clientes que possuem valor <ins>maior</ins> que a mediana na conta, entram mais em Churn. "
   ]
  },
  {
   "cell_type": "code",
   "execution_count": 61,
   "id": "00b45471",
   "metadata": {},
   "outputs": [
    {
     "data": {
      "image/png": "[encoded data removed]",
      "text/plain": [
       "<Figure size 1080x360 with 1 Axes>"
      ]
     },
     "metadata": {
      "needs_background": "light"
     },
     "output_type": "display_data"
    }
   ],
   "source": [
    "plt.figure(figsize=(15, 5))\n",
    "sns.countplot(x='category_balance', hue='exited', data=df4)\n",
    "sns.despine(right=True)"
   ]
  },
  {
   "cell_type": "markdown",
   "id": "84725608",
   "metadata": {},
   "source": [
    "### **H10.** Clientes que não possuem cartão de crédito, entram mais em Churn.\n",
    "\n",
    "**FALSA** Clientes que <ins>possuem</ins> cartão de crédito, entram mais em Churn."
   ]
  },
  {
   "cell_type": "code",
   "execution_count": 62,
   "id": "113e1064",
   "metadata": {},
   "outputs": [
    {
     "data": {
      "image/png": "[encoded data removed]",
      "text/plain": [
       "<Figure size 1080x360 with 1 Axes>"
      ]
     },
     "metadata": {
      "needs_background": "light"
     },
     "output_type": "display_data"
    }
   ],
   "source": [
    "plt.figure(figsize=(15, 5))\n",
    "sns.countplot(x='has_cr_card', hue='exited', data=df4)\n",
    "sns.despine(right=True)"
   ]
  },
  {
   "cell_type": "markdown",
   "id": "9982c60e",
   "metadata": {},
   "source": [
    "### **H11.** Clientes com menor saldo, entram mais em Churn.\n",
    "\n",
    "**FALSA** Clientes com <ins>maior saldo</ins>, entram mais em Churn."
   ]
  },
  {
   "cell_type": "code",
   "execution_count": 63,
   "id": "4976928a",
   "metadata": {},
   "outputs": [
    {
     "data": {
      "image/png": "[encoded data removed]",
      "text/plain": [
       "<Figure size 1080x360 with 1 Axes>"
      ]
     },
     "metadata": {
      "needs_background": "light"
     },
     "output_type": "display_data"
    }
   ],
   "source": [
    "plt.figure(figsize=(15, 5))\n",
    "sns.kdeplot(x=df4[df4['exited'] == 1]['balance'], label='Churn', shade=True, color='red')\n",
    "sns.kdeplot(x=df4[df4['exited'] == 0]['balance'], label='Not Churn', shade=True, color='green')\n",
    "sns.despine(right=True)\n",
    "plt.legend();"
   ]
  },
  {
   "cell_type": "markdown",
   "id": "c7cf8e22",
   "metadata": {},
   "source": [
    "## 4.3 Análise Multivariada"
   ]
  },
  {
   "cell_type": "markdown",
   "id": "9752740b",
   "metadata": {},
   "source": [
    "### 4.3.1 Variavel Numérica"
   ]
  },
  {
   "cell_type": "code",
   "execution_count": 65,
   "id": "918144ca",
   "metadata": {},
   "outputs": [
    {
     "data": {
      "image/png": "[encoded data removed]",
      "text/plain": [
       "<Figure size 1080x360 with 2 Axes>"
      ]
     },
     "metadata": {
      "needs_background": "light"
     },
     "output_type": "display_data"
    }
   ],
   "source": [
    "num = df4.select_dtypes(include=['int64', 'float64'])\n",
    "\n",
    "plt.figure(figsize=(15, 5))\n",
    "sns.heatmap(num.corr(method='pearson'), annot=True);"
   ]
  },
  {
   "cell_type": "markdown",
   "id": "ac4c0d56",
   "metadata": {},
   "source": [
    "**Insight:**"
   ]
  },
  {
   "cell_type": "markdown",
   "id": "44dcfc62",
   "metadata": {},
   "source": [
    "### 4.3.2 Variavel Categórica"
   ]
  },
  {
   "cell_type": "code",
   "execution_count": 68,
   "id": "2bfe651c",
   "metadata": {},
   "outputs": [
    {
     "data": {
      "image/png": "[encoded data removed]",
      "text/plain": [
       "<Figure size 1080x504 with 2 Axes>"
      ]
     },
     "metadata": {
      "needs_background": "light"
     },
     "output_type": "display_data"
    }
   ],
   "source": [
    "# Categorical data\n",
    "categorical = df4.select_dtypes(include=['object'])\n",
    "\n",
    "# Apply correlation categories\n",
    "matrix = show_matrix(data=categorical, col='geography', output='dict')\n",
    "data_columns = categorical.iloc[:, 1:]\n",
    "\n",
    "for c in data_columns.columns:\n",
    "    matrix[c] = show_matrix(data=categorical, col=c, output='list')\n",
    "\n",
    "# Figure\n",
    "plt.figure(figsize=(15, 7))\n",
    "sns.heatmap(matrix, annot=True)\n",
    "plt.title('Correlação de Variaveis Categóricas\\n', fontsize=13);"
   ]
  },
  {
   "cell_type": "markdown",
   "id": "c6b6f9b6",
   "metadata": {},
   "source": [
    "**Insight:**"
   ]
  },
  {
   "cell_type": "markdown",
   "id": "e69c92ad",
   "metadata": {},
   "source": [
    "# 5.0 PREPARAÇÃO DE DADOS"
   ]
  },
  {
   "cell_type": "markdown",
   "id": "a2610ec4",
   "metadata": {},
   "source": [
    "## 5.1 Reescalonamento"
   ]
  },
  {
   "cell_type": "markdown",
   "id": "491a1906",
   "metadata": {},
   "source": [
    "### 5.1.1 Min Max Scaler"
   ]
  },
  {
   "cell_type": "code",
   "execution_count": 69,
   "id": "7768871e",
   "metadata": {},
   "outputs": [],
   "source": [
    "df5 = df4.copy()\n",
    "\n",
    "# define method\n",
    "mms_balance = MinMaxScaler()\n",
    "mms_salary = MinMaxScaler()\n",
    "\n",
    "# balance\n",
    "df5['balance'] = mms_balance.fit_transform(df5[['balance']].values)\n",
    "\n",
    "# estimated_salary\n",
    "df5['estimated_salary'] = mms_salary.fit_transform(df5[['estimated_salary']].values)\n"
   ]
  },
  {
   "cell_type": "markdown",
   "id": "1f305cbf",
   "metadata": {},
   "source": [
    "### 5.1.2 Robust Scaler"
   ]
  },
  {
   "cell_type": "code",
   "execution_count": 70,
   "id": "61bec283",
   "metadata": {},
   "outputs": [],
   "source": [
    "# define method\n",
    "rs_age = RobustScaler()\n",
    "\n",
    "# age\n",
    "df5['age'] = rs_age.fit_transform(df5[['age']].values)"
   ]
  },
  {
   "cell_type": "markdown",
   "id": "042236d2",
   "metadata": {},
   "source": [
    "### 5.1.3 Standard Scaler"
   ]
  },
  {
   "cell_type": "code",
   "execution_count": 71,
   "id": "d54a84e0",
   "metadata": {},
   "outputs": [],
   "source": [
    "# define method\n",
    "sc_credit_score = StandardScaler()\n",
    "\n",
    "# credit_score\n",
    "df5['credit_score'] = sc_credit_score.fit_transform(df5[['credit_score']].values)"
   ]
  },
  {
   "cell_type": "markdown",
   "id": "9a30c4a9",
   "metadata": {},
   "source": [
    "## 5.2 Encoding"
   ]
  },
  {
   "cell_type": "markdown",
   "id": "050697bc",
   "metadata": {},
   "source": [
    "### 5.2.2 One Hot Encoding"
   ]
  },
  {
   "cell_type": "code",
   "execution_count": 72,
   "id": "1c31512d",
   "metadata": {},
   "outputs": [],
   "source": [
    "# geography\n",
    "df5 = pd.get_dummies(df5, prefix='geography', columns=['geography'])"
   ]
  },
  {
   "cell_type": "markdown",
   "id": "5ac2df17",
   "metadata": {},
   "source": [
    "### 5.2.3  Binary Encoding"
   ]
  },
  {
   "cell_type": "code",
   "execution_count": 73,
   "id": "d5ea0e3d",
   "metadata": {},
   "outputs": [],
   "source": [
    "# gender\n",
    "df5['gender'] = df5['gender'].apply(lambda x: 1 if x == 'Female' else 0)\n",
    "\n",
    "# category_age\n",
    "df5['category_age'] = df5['category_age'].map({'>= 40': 1, '< 40': 0})\n",
    "\n",
    "# category_salary\n",
    "df5['category_salary'] = df5['category_salary'].map({'lower salary': 0, 'higher salary': 1})\n",
    "\n",
    "# num_of_products_category\n",
    "df5['num_of_products_category'] = df5['num_of_products_category'].map({'< 2': 0, '>= 2': 1})\n",
    "\n",
    "# tenure_category\n",
    "df5['tenure_category'] = df5['tenure_category'].map({'< 3': 0, '>= 3': 1})\n",
    "\n",
    "# balance_zero\n",
    "df5['balance_zero'] = df5['balance_zero'].map({'zero': 0, 'not zero': 1})\n",
    "\n",
    "# category_balance\n",
    "df5['category_balance'] = df5['category_balance'].map({'lower balance': 0, 'higher balance': 1})"
   ]
  },
  {
   "cell_type": "markdown",
   "id": "91df6770",
   "metadata": {},
   "source": [
    "### 5.2.4 Label Encoding"
   ]
  },
  {
   "cell_type": "code",
   "execution_count": 74,
   "id": "6cf34af3",
   "metadata": {},
   "outputs": [],
   "source": [
    "# credit_score_category\n",
    "df5['credit_score_category'] = df5['credit_score_category'].map({'ruim': 0, 'regular': 1, 'bom': 2})"
   ]
  },
  {
   "cell_type": "markdown",
   "id": "3cc4d030",
   "metadata": {},
   "source": [
    "## 5.3 Divisão de Dados"
   ]
  },
  {
   "cell_type": "markdown",
   "id": "c3bd961f",
   "metadata": {},
   "source": [
    "### 5.3.1 Treinamento e Teste"
   ]
  },
  {
   "cell_type": "code",
   "execution_count": 75,
   "id": "b4ac0119",
   "metadata": {},
   "outputs": [],
   "source": [
    "feature = df5.drop(columns=['exited'])\n",
    "target = df5['exited']\n",
    "\n",
    "x_train, x_test, y_train, y_test = train_test_split(feature, target, test_size=0.20, random_state=42)"
   ]
  },
  {
   "cell_type": "markdown",
   "id": "3816e464",
   "metadata": {},
   "source": [
    "# 6.0 SELEÇÃO DE FEATURE"
   ]
  },
  {
   "cell_type": "markdown",
   "id": "9f57c6e9",
   "metadata": {},
   "source": [
    "## 6.1 Feature Importance"
   ]
  },
  {
   "cell_type": "code",
   "execution_count": 35,
   "id": "1bc70424",
   "metadata": {},
   "outputs": [
    {
     "data": {
      "text/html": [
       "<div>\n",
       "<style scoped>\n",
       "    .dataframe tbody tr th:only-of-type {\n",
       "        vertical-align: middle;\n",
       "    }\n",
       "\n",
       "    .dataframe tbody tr th {\n",
       "        vertical-align: top;\n",
       "    }\n",
       "\n",
       "    .dataframe thead th {\n",
       "        text-align: right;\n",
       "    }\n",
       "</style>\n",
       "<table border=\"1\" class=\"dataframe\">\n",
       "  <thead>\n",
       "    <tr style=\"text-align: right;\">\n",
       "      <th></th>\n",
       "      <th>feature</th>\n",
       "      <th>importance</th>\n",
       "    </tr>\n",
       "  </thead>\n",
       "  <tbody>\n",
       "    <tr>\n",
       "      <th>0</th>\n",
       "      <td>age</td>\n",
       "      <td>0.135782</td>\n",
       "    </tr>\n",
       "    <tr>\n",
       "      <th>0</th>\n",
       "      <td>credit_score</td>\n",
       "      <td>0.105273</td>\n",
       "    </tr>\n",
       "    <tr>\n",
       "      <th>0</th>\n",
       "      <td>estimated_salary</td>\n",
       "      <td>0.104714</td>\n",
       "    </tr>\n",
       "    <tr>\n",
       "      <th>0</th>\n",
       "      <td>num_of_products</td>\n",
       "      <td>0.101633</td>\n",
       "    </tr>\n",
       "    <tr>\n",
       "      <th>0</th>\n",
       "      <td>balance</td>\n",
       "      <td>0.090119</td>\n",
       "    </tr>\n",
       "    <tr>\n",
       "      <th>0</th>\n",
       "      <td>tenure</td>\n",
       "      <td>0.086503</td>\n",
       "    </tr>\n",
       "    <tr>\n",
       "      <th>0</th>\n",
       "      <td>category_age</td>\n",
       "      <td>0.083237</td>\n",
       "    </tr>\n",
       "    <tr>\n",
       "      <th>0</th>\n",
       "      <td>is_active_member</td>\n",
       "      <td>0.046862</td>\n",
       "    </tr>\n",
       "    <tr>\n",
       "      <th>0</th>\n",
       "      <td>credit_score_category</td>\n",
       "      <td>0.036887</td>\n",
       "    </tr>\n",
       "    <tr>\n",
       "      <th>0</th>\n",
       "      <td>num_of_products_category</td>\n",
       "      <td>0.032505</td>\n",
       "    </tr>\n",
       "    <tr>\n",
       "      <th>0</th>\n",
       "      <td>has_cr_card</td>\n",
       "      <td>0.029856</td>\n",
       "    </tr>\n",
       "    <tr>\n",
       "      <th>0</th>\n",
       "      <td>gender</td>\n",
       "      <td>0.025476</td>\n",
       "    </tr>\n",
       "    <tr>\n",
       "      <th>0</th>\n",
       "      <td>category_salary</td>\n",
       "      <td>0.023337</td>\n",
       "    </tr>\n",
       "    <tr>\n",
       "      <th>0</th>\n",
       "      <td>tenure_category</td>\n",
       "      <td>0.020486</td>\n",
       "    </tr>\n",
       "    <tr>\n",
       "      <th>0</th>\n",
       "      <td>geography_Germany</td>\n",
       "      <td>0.020304</td>\n",
       "    </tr>\n",
       "    <tr>\n",
       "      <th>0</th>\n",
       "      <td>category_balance</td>\n",
       "      <td>0.017670</td>\n",
       "    </tr>\n",
       "    <tr>\n",
       "      <th>0</th>\n",
       "      <td>balance_zero</td>\n",
       "      <td>0.015141</td>\n",
       "    </tr>\n",
       "    <tr>\n",
       "      <th>0</th>\n",
       "      <td>geography_France</td>\n",
       "      <td>0.013075</td>\n",
       "    </tr>\n",
       "    <tr>\n",
       "      <th>0</th>\n",
       "      <td>geography_Spain</td>\n",
       "      <td>0.011140</td>\n",
       "    </tr>\n",
       "  </tbody>\n",
       "</table>\n",
       "</div>"
      ],
      "text/plain": [
       "                    feature  importance\n",
       "0                       age    0.135782\n",
       "0              credit_score    0.105273\n",
       "0          estimated_salary    0.104714\n",
       "0           num_of_products    0.101633\n",
       "0                   balance    0.090119\n",
       "0                    tenure    0.086503\n",
       "0              category_age    0.083237\n",
       "0          is_active_member    0.046862\n",
       "0     credit_score_category    0.036887\n",
       "0  num_of_products_category    0.032505\n",
       "0               has_cr_card    0.029856\n",
       "0                    gender    0.025476\n",
       "0           category_salary    0.023337\n",
       "0           tenure_category    0.020486\n",
       "0         geography_Germany    0.020304\n",
       "0          category_balance    0.017670\n",
       "0              balance_zero    0.015141\n",
       "0          geography_France    0.013075\n",
       "0           geography_Spain    0.011140"
      ]
     },
     "execution_count": 35,
     "metadata": {},
     "output_type": "execute_result"
    }
   ],
   "source": [
    "extraTrees = ExtraTreesClassifier()\n",
    "\n",
    "extraTrees_trained = extraTrees.fit(x_train, y_train)\n",
    "\n",
    "importance = extraTrees_trained.feature_importances_\n",
    "indices = np.argsort(importance)[::-1]\n",
    "\n",
    "df = pd.DataFrame()\n",
    "for i, j in zip(x_train, extraTrees_trained.feature_importances_):\n",
    "    aux = pd.DataFrame({'feature': i, 'importance': j}, index=[0])\n",
    "    df  = pd.concat([df, aux], axis=0)\n",
    "\n",
    "\n",
    "df = df.sort_values(by='importance', ascending=False)\n",
    "df"
   ]
  },
  {
   "cell_type": "markdown",
   "id": "e536bdb1",
   "metadata": {},
   "source": [
    "## 6.2 Boruta"
   ]
  },
  {
   "cell_type": "code",
   "execution_count": 135,
   "id": "099dd0c5",
   "metadata": {},
   "outputs": [
    {
     "name": "stdout",
     "output_type": "stream",
     "text": [
      "Iteration: \t1 / 100\n",
      "Confirmed: \t0\n",
      "Tentative: \t19\n",
      "Rejected: \t0\n",
      "Iteration: \t2 / 100\n",
      "Confirmed: \t0\n",
      "Tentative: \t19\n",
      "Rejected: \t0\n",
      "Iteration: \t3 / 100\n",
      "Confirmed: \t0\n",
      "Tentative: \t19\n",
      "Rejected: \t0\n",
      "Iteration: \t4 / 100\n",
      "Confirmed: \t0\n",
      "Tentative: \t19\n",
      "Rejected: \t0\n",
      "Iteration: \t5 / 100\n",
      "Confirmed: \t0\n",
      "Tentative: \t19\n",
      "Rejected: \t0\n",
      "Iteration: \t6 / 100\n",
      "Confirmed: \t0\n",
      "Tentative: \t19\n",
      "Rejected: \t0\n",
      "Iteration: \t7 / 100\n",
      "Confirmed: \t0\n",
      "Tentative: \t19\n",
      "Rejected: \t0\n",
      "Iteration: \t8 / 100\n",
      "Confirmed: \t6\n",
      "Tentative: \t1\n",
      "Rejected: \t12\n",
      "Iteration: \t9 / 100\n",
      "Confirmed: \t6\n",
      "Tentative: \t1\n",
      "Rejected: \t12\n",
      "Iteration: \t10 / 100\n",
      "Confirmed: \t6\n",
      "Tentative: \t1\n",
      "Rejected: \t12\n",
      "Iteration: \t11 / 100\n",
      "Confirmed: \t6\n",
      "Tentative: \t1\n",
      "Rejected: \t12\n",
      "Iteration: \t12 / 100\n",
      "Confirmed: \t6\n",
      "Tentative: \t1\n",
      "Rejected: \t12\n",
      "Iteration: \t13 / 100\n",
      "Confirmed: \t6\n",
      "Tentative: \t1\n",
      "Rejected: \t12\n",
      "Iteration: \t14 / 100\n",
      "Confirmed: \t6\n",
      "Tentative: \t1\n",
      "Rejected: \t12\n",
      "Iteration: \t15 / 100\n",
      "Confirmed: \t6\n",
      "Tentative: \t1\n",
      "Rejected: \t12\n",
      "Iteration: \t16 / 100\n",
      "Confirmed: \t6\n",
      "Tentative: \t1\n",
      "Rejected: \t12\n",
      "Iteration: \t17 / 100\n",
      "Confirmed: \t6\n",
      "Tentative: \t1\n",
      "Rejected: \t12\n",
      "Iteration: \t18 / 100\n",
      "Confirmed: \t6\n",
      "Tentative: \t1\n",
      "Rejected: \t12\n",
      "Iteration: \t19 / 100\n",
      "Confirmed: \t6\n",
      "Tentative: \t1\n",
      "Rejected: \t12\n",
      "Iteration: \t20 / 100\n",
      "Confirmed: \t6\n",
      "Tentative: \t1\n",
      "Rejected: \t12\n",
      "Iteration: \t21 / 100\n",
      "Confirmed: \t6\n",
      "Tentative: \t1\n",
      "Rejected: \t12\n",
      "Iteration: \t22 / 100\n",
      "Confirmed: \t6\n",
      "Tentative: \t1\n",
      "Rejected: \t12\n",
      "Iteration: \t23 / 100\n",
      "Confirmed: \t6\n",
      "Tentative: \t1\n",
      "Rejected: \t12\n",
      "Iteration: \t24 / 100\n",
      "Confirmed: \t6\n",
      "Tentative: \t1\n",
      "Rejected: \t12\n",
      "Iteration: \t25 / 100\n",
      "Confirmed: \t6\n",
      "Tentative: \t1\n",
      "Rejected: \t12\n",
      "Iteration: \t26 / 100\n",
      "Confirmed: \t6\n",
      "Tentative: \t1\n",
      "Rejected: \t12\n",
      "Iteration: \t27 / 100\n",
      "Confirmed: \t6\n",
      "Tentative: \t1\n",
      "Rejected: \t12\n",
      "Iteration: \t28 / 100\n",
      "Confirmed: \t6\n",
      "Tentative: \t1\n",
      "Rejected: \t12\n",
      "Iteration: \t29 / 100\n",
      "Confirmed: \t6\n",
      "Tentative: \t1\n",
      "Rejected: \t12\n",
      "Iteration: \t30 / 100\n",
      "Confirmed: \t6\n",
      "Tentative: \t1\n",
      "Rejected: \t12\n",
      "Iteration: \t31 / 100\n",
      "Confirmed: \t6\n",
      "Tentative: \t1\n",
      "Rejected: \t12\n",
      "Iteration: \t32 / 100\n",
      "Confirmed: \t6\n",
      "Tentative: \t1\n",
      "Rejected: \t12\n",
      "Iteration: \t33 / 100\n",
      "Confirmed: \t6\n",
      "Tentative: \t1\n",
      "Rejected: \t12\n",
      "Iteration: \t34 / 100\n",
      "Confirmed: \t6\n",
      "Tentative: \t1\n",
      "Rejected: \t12\n",
      "Iteration: \t35 / 100\n",
      "Confirmed: \t6\n",
      "Tentative: \t1\n",
      "Rejected: \t12\n",
      "Iteration: \t36 / 100\n",
      "Confirmed: \t6\n",
      "Tentative: \t1\n",
      "Rejected: \t12\n",
      "Iteration: \t37 / 100\n",
      "Confirmed: \t6\n",
      "Tentative: \t1\n",
      "Rejected: \t12\n",
      "Iteration: \t38 / 100\n",
      "Confirmed: \t6\n",
      "Tentative: \t1\n",
      "Rejected: \t12\n",
      "Iteration: \t39 / 100\n",
      "Confirmed: \t6\n",
      "Tentative: \t1\n",
      "Rejected: \t12\n",
      "Iteration: \t40 / 100\n",
      "Confirmed: \t6\n",
      "Tentative: \t1\n",
      "Rejected: \t12\n",
      "Iteration: \t41 / 100\n",
      "Confirmed: \t6\n",
      "Tentative: \t1\n",
      "Rejected: \t12\n",
      "Iteration: \t42 / 100\n",
      "Confirmed: \t6\n",
      "Tentative: \t1\n",
      "Rejected: \t12\n",
      "Iteration: \t43 / 100\n",
      "Confirmed: \t6\n",
      "Tentative: \t1\n",
      "Rejected: \t12\n",
      "Iteration: \t44 / 100\n",
      "Confirmed: \t6\n",
      "Tentative: \t1\n",
      "Rejected: \t12\n",
      "Iteration: \t45 / 100\n",
      "Confirmed: \t6\n",
      "Tentative: \t1\n",
      "Rejected: \t12\n",
      "Iteration: \t46 / 100\n",
      "Confirmed: \t6\n",
      "Tentative: \t1\n",
      "Rejected: \t12\n",
      "Iteration: \t47 / 100\n",
      "Confirmed: \t6\n",
      "Tentative: \t1\n",
      "Rejected: \t12\n",
      "Iteration: \t48 / 100\n",
      "Confirmed: \t6\n",
      "Tentative: \t1\n",
      "Rejected: \t12\n",
      "Iteration: \t49 / 100\n",
      "Confirmed: \t6\n",
      "Tentative: \t1\n",
      "Rejected: \t12\n",
      "Iteration: \t50 / 100\n",
      "Confirmed: \t6\n",
      "Tentative: \t1\n",
      "Rejected: \t12\n",
      "Iteration: \t51 / 100\n",
      "Confirmed: \t6\n",
      "Tentative: \t1\n",
      "Rejected: \t12\n",
      "Iteration: \t52 / 100\n",
      "Confirmed: \t6\n",
      "Tentative: \t1\n",
      "Rejected: \t12\n",
      "Iteration: \t53 / 100\n",
      "Confirmed: \t6\n",
      "Tentative: \t1\n",
      "Rejected: \t12\n",
      "Iteration: \t54 / 100\n",
      "Confirmed: \t6\n",
      "Tentative: \t1\n",
      "Rejected: \t12\n",
      "Iteration: \t55 / 100\n",
      "Confirmed: \t6\n",
      "Tentative: \t1\n",
      "Rejected: \t12\n",
      "Iteration: \t56 / 100\n",
      "Confirmed: \t6\n",
      "Tentative: \t1\n",
      "Rejected: \t12\n",
      "Iteration: \t57 / 100\n",
      "Confirmed: \t6\n",
      "Tentative: \t1\n",
      "Rejected: \t12\n",
      "Iteration: \t58 / 100\n",
      "Confirmed: \t6\n",
      "Tentative: \t1\n",
      "Rejected: \t12\n",
      "Iteration: \t59 / 100\n",
      "Confirmed: \t6\n",
      "Tentative: \t1\n",
      "Rejected: \t12\n",
      "Iteration: \t60 / 100\n",
      "Confirmed: \t6\n",
      "Tentative: \t1\n",
      "Rejected: \t12\n",
      "Iteration: \t61 / 100\n",
      "Confirmed: \t6\n",
      "Tentative: \t1\n",
      "Rejected: \t12\n",
      "Iteration: \t62 / 100\n",
      "Confirmed: \t6\n",
      "Tentative: \t1\n",
      "Rejected: \t12\n",
      "Iteration: \t63 / 100\n",
      "Confirmed: \t6\n",
      "Tentative: \t1\n",
      "Rejected: \t12\n",
      "Iteration: \t64 / 100\n",
      "Confirmed: \t6\n",
      "Tentative: \t1\n",
      "Rejected: \t12\n",
      "Iteration: \t65 / 100\n",
      "Confirmed: \t6\n",
      "Tentative: \t1\n",
      "Rejected: \t12\n",
      "Iteration: \t66 / 100\n",
      "Confirmed: \t6\n",
      "Tentative: \t1\n",
      "Rejected: \t12\n",
      "Iteration: \t67 / 100\n",
      "Confirmed: \t6\n",
      "Tentative: \t1\n",
      "Rejected: \t12\n",
      "Iteration: \t68 / 100\n",
      "Confirmed: \t6\n",
      "Tentative: \t1\n",
      "Rejected: \t12\n",
      "Iteration: \t69 / 100\n",
      "Confirmed: \t6\n",
      "Tentative: \t1\n",
      "Rejected: \t12\n",
      "Iteration: \t70 / 100\n",
      "Confirmed: \t6\n",
      "Tentative: \t1\n",
      "Rejected: \t12\n",
      "Iteration: \t71 / 100\n",
      "Confirmed: \t6\n",
      "Tentative: \t1\n",
      "Rejected: \t12\n",
      "Iteration: \t72 / 100\n",
      "Confirmed: \t6\n",
      "Tentative: \t1\n",
      "Rejected: \t12\n",
      "Iteration: \t73 / 100\n",
      "Confirmed: \t6\n",
      "Tentative: \t1\n",
      "Rejected: \t12\n",
      "Iteration: \t74 / 100\n",
      "Confirmed: \t6\n",
      "Tentative: \t1\n",
      "Rejected: \t12\n",
      "Iteration: \t75 / 100\n",
      "Confirmed: \t6\n",
      "Tentative: \t1\n",
      "Rejected: \t12\n",
      "Iteration: \t76 / 100\n",
      "Confirmed: \t6\n",
      "Tentative: \t1\n",
      "Rejected: \t12\n",
      "Iteration: \t77 / 100\n",
      "Confirmed: \t6\n",
      "Tentative: \t1\n",
      "Rejected: \t12\n",
      "Iteration: \t78 / 100\n",
      "Confirmed: \t6\n",
      "Tentative: \t1\n",
      "Rejected: \t12\n",
      "Iteration: \t79 / 100\n",
      "Confirmed: \t6\n",
      "Tentative: \t1\n",
      "Rejected: \t12\n",
      "Iteration: \t80 / 100\n",
      "Confirmed: \t6\n",
      "Tentative: \t1\n",
      "Rejected: \t12\n",
      "Iteration: \t81 / 100\n",
      "Confirmed: \t6\n",
      "Tentative: \t1\n",
      "Rejected: \t12\n",
      "Iteration: \t82 / 100\n",
      "Confirmed: \t6\n",
      "Tentative: \t1\n",
      "Rejected: \t12\n",
      "Iteration: \t83 / 100\n",
      "Confirmed: \t6\n",
      "Tentative: \t1\n",
      "Rejected: \t12\n",
      "Iteration: \t84 / 100\n",
      "Confirmed: \t6\n",
      "Tentative: \t1\n",
      "Rejected: \t12\n",
      "Iteration: \t85 / 100\n",
      "Confirmed: \t6\n",
      "Tentative: \t1\n",
      "Rejected: \t12\n",
      "Iteration: \t86 / 100\n",
      "Confirmed: \t6\n",
      "Tentative: \t1\n",
      "Rejected: \t12\n",
      "Iteration: \t87 / 100\n",
      "Confirmed: \t6\n",
      "Tentative: \t1\n",
      "Rejected: \t12\n",
      "Iteration: \t88 / 100\n",
      "Confirmed: \t6\n",
      "Tentative: \t1\n",
      "Rejected: \t12\n",
      "Iteration: \t89 / 100\n",
      "Confirmed: \t6\n",
      "Tentative: \t1\n",
      "Rejected: \t12\n",
      "Iteration: \t90 / 100\n",
      "Confirmed: \t6\n",
      "Tentative: \t1\n",
      "Rejected: \t12\n",
      "Iteration: \t91 / 100\n",
      "Confirmed: \t6\n",
      "Tentative: \t1\n",
      "Rejected: \t12\n",
      "Iteration: \t92 / 100\n",
      "Confirmed: \t6\n",
      "Tentative: \t1\n",
      "Rejected: \t12\n",
      "Iteration: \t93 / 100\n",
      "Confirmed: \t6\n",
      "Tentative: \t1\n",
      "Rejected: \t12\n",
      "Iteration: \t94 / 100\n",
      "Confirmed: \t6\n",
      "Tentative: \t1\n",
      "Rejected: \t12\n",
      "Iteration: \t95 / 100\n",
      "Confirmed: \t6\n",
      "Tentative: \t1\n",
      "Rejected: \t12\n",
      "Iteration: \t96 / 100\n",
      "Confirmed: \t6\n",
      "Tentative: \t1\n",
      "Rejected: \t12\n",
      "Iteration: \t97 / 100\n",
      "Confirmed: \t6\n",
      "Tentative: \t1\n",
      "Rejected: \t12\n",
      "Iteration: \t98 / 100\n",
      "Confirmed: \t6\n",
      "Tentative: \t1\n",
      "Rejected: \t12\n",
      "Iteration: \t99 / 100\n",
      "Confirmed: \t6\n",
      "Tentative: \t1\n",
      "Rejected: \t12\n",
      "\n",
      "\n",
      "BorutaPy finished running.\n",
      "\n",
      "Iteration: \t100 / 100\n",
      "Confirmed: \t6\n",
      "Tentative: \t1\n",
      "Rejected: \t12\n"
     ]
    }
   ],
   "source": [
    "# Define Boruta\n",
    "boruta = BorutaPy(extraTrees, n_estimators='auto', verbose=2, random_state=42)\n",
    "\n",
    "boruta_trained = boruta.fit(x_train.values, y_train.values)\n",
    "\n",
    "# Selected Boruta\n",
    "#cols_selected = boruta_trained.support_.tolist()"
   ]
  },
  {
   "cell_type": "code",
   "execution_count": 136,
   "id": "e3647234",
   "metadata": {},
   "outputs": [
    {
     "data": {
      "text/html": [
       "<div>\n",
       "<style scoped>\n",
       "    .dataframe tbody tr th:only-of-type {\n",
       "        vertical-align: middle;\n",
       "    }\n",
       "\n",
       "    .dataframe tbody tr th {\n",
       "        vertical-align: top;\n",
       "    }\n",
       "\n",
       "    .dataframe thead th {\n",
       "        text-align: right;\n",
       "    }\n",
       "</style>\n",
       "<table border=\"1\" class=\"dataframe\">\n",
       "  <thead>\n",
       "    <tr style=\"text-align: right;\">\n",
       "      <th></th>\n",
       "      <th>Selected</th>\n",
       "    </tr>\n",
       "  </thead>\n",
       "  <tbody>\n",
       "    <tr>\n",
       "      <th>0</th>\n",
       "      <td>age</td>\n",
       "    </tr>\n",
       "    <tr>\n",
       "      <th>1</th>\n",
       "      <td>balance</td>\n",
       "    </tr>\n",
       "    <tr>\n",
       "      <th>2</th>\n",
       "      <td>num_of_products</td>\n",
       "    </tr>\n",
       "    <tr>\n",
       "      <th>3</th>\n",
       "      <td>is_active_member</td>\n",
       "    </tr>\n",
       "    <tr>\n",
       "      <th>4</th>\n",
       "      <td>category_age</td>\n",
       "    </tr>\n",
       "    <tr>\n",
       "      <th>5</th>\n",
       "      <td>num_of_products_category</td>\n",
       "    </tr>\n",
       "  </tbody>\n",
       "</table>\n",
       "</div>"
      ],
      "text/plain": [
       "                   Selected\n",
       "0                       age\n",
       "1                   balance\n",
       "2           num_of_products\n",
       "3          is_active_member\n",
       "4              category_age\n",
       "5  num_of_products_category"
      ]
     },
     "execution_count": 136,
     "metadata": {},
     "output_type": "execute_result"
    },
    {
     "data": {
      "image/png": "[encoded data removed]",
      "text/plain": [
       "<Figure size 1080x360 with 1 Axes>"
      ]
     },
     "metadata": {
      "needs_background": "light"
     },
     "output_type": "display_data"
    }
   ],
   "source": [
    "# Selected Boruta\n",
    "result = boruta_trained.support_.tolist()\n",
    "\n",
    "# Best Features\n",
    "selected = x_train.iloc[:, result].columns.to_list()\n",
    "\n",
    "# Not Selected Boruta\n",
    "not_selected = list(np.setdiff1d(x_train.columns, selected))\n",
    "\n",
    "# resume\n",
    "resume = pd.DataFrame({'columns': x_train.columns, 'result': result})\n",
    "reseume_selected = pd.DataFrame({'Selected': selected})\n",
    "\n",
    "# plot\n",
    "plt.figure(figsize=(15, 5))\n",
    "sns.countplot(x='result', data=resume)\n",
    "plt.title('Quantity columns selected - Boruta')\n",
    "sns.despine(right=True)\n",
    "\n",
    "reseume_selected"
   ]
  },
  {
   "cell_type": "markdown",
   "id": "3028dd99",
   "metadata": {},
   "source": [
    "## 6.3 Filtragem de Variaveis"
   ]
  },
  {
   "cell_type": "code",
   "execution_count": 76,
   "id": "1ed5f16b",
   "metadata": {},
   "outputs": [],
   "source": [
    "cols_selected_importance = ['age', 'credit_score', 'estimated_salary', 'num_of_products']\n",
    "cols_selected_boruta = ['balance', 'is_active_member', 'category_age', 'num_of_products_category']\n",
    "\n",
    "cols_selected_final = cols_selected_importance + cols_selected_boruta\n",
    "\n",
    "x_train = x_train[cols_selected_final]\n",
    "x_test = x_test[cols_selected_final]"
   ]
  },
  {
   "cell_type": "markdown",
   "id": "9e28fdf3",
   "metadata": {},
   "source": [
    "# 7.0 MACHINE LEARNING"
   ]
  },
  {
   "cell_type": "markdown",
   "id": "e89dd7e8",
   "metadata": {},
   "source": [
    "## 7.1 Baseline Model"
   ]
  },
  {
   "cell_type": "code",
   "execution_count": 77,
   "id": "8a5e5415",
   "metadata": {},
   "outputs": [
    {
     "data": {
      "text/plain": [
       "\"baseline = DummyClassifier()\\n\\nbaseline_trained = baseline.fit(x_train, y_train)\\nyhat_baseline = baseline_trained.predict_proba(x_test)\\n\\nplot_curve('Baseleine Model', y_pred=yhat_baseline, y_true=y_test)\""
      ]
     },
     "execution_count": 77,
     "metadata": {},
     "output_type": "execute_result"
    }
   ],
   "source": [
    "\"\"\"baseline = DummyClassifier()\n",
    "\n",
    "baseline_trained = baseline.fit(x_train, y_train)\n",
    "yhat_baseline = baseline_trained.predict_proba(x_test)\n",
    "\n",
    "plot_curve('Baseleine Model', y_pred=yhat_baseline, y_true=y_test)\"\"\""
   ]
  },
  {
   "cell_type": "markdown",
   "id": "114a9603",
   "metadata": {},
   "source": [
    "### 7.1.1 Baseline Model"
   ]
  },
  {
   "cell_type": "markdown",
   "id": "50d028af",
   "metadata": {},
   "source": [
    "## 7.2 Naive Bayes"
   ]
  },
  {
   "cell_type": "code",
   "execution_count": 87,
   "id": "6011c555",
   "metadata": {},
   "outputs": [
    {
     "name": "stdout",
     "output_type": "stream",
     "text": [
      "Precision_topk_100: 0.6831683168316832\n",
      "Recall_topk_100: 0.17557251908396945\n"
     ]
    },
    {
     "data": {
      "image/png": "[encoded data removed]",
      "text/plain": [
       "<Figure size 1080x360 with 1 Axes>"
      ]
     },
     "metadata": {
      "needs_background": "light"
     },
     "output_type": "display_data"
    },
    {
     "data": {
      "image/png": "[encoded data removed]",
      "text/plain": [
       "<Figure size 1080x360 with 1 Axes>"
      ]
     },
     "metadata": {
      "needs_background": "light"
     },
     "output_type": "display_data"
    }
   ],
   "source": [
    "# define model\n",
    "naive_bayes = GaussianNB()\n",
    "\n",
    "# training and predict\n",
    "bayes_trained = naive_bayes.fit(x_train, y_train)\n",
    "yhat_bayes = bayes_trained.predict_proba(x_test)\n",
    "\n",
    "# Add prob in the data to cumpute metric\n",
    "x_test_bayes = x_test.copy()\n",
    "x_test_bayes['response'] = y_test\n",
    "\n",
    "# Propensity score\n",
    "x_test_bayes['score'] = list(yhat_bayes[:, 1])\n",
    "\n",
    "# Sort clients by propensity score\n",
    "x_test_bayes = x_test_bayes.sort_values(by='score', ascending=False)\n",
    "\n",
    "# Compute precision at K\n",
    "k = 100\n",
    "porcentage_k = 100 / len(x_test)\n",
    "print(f'Precision_topk_{k}:', precision_at_k(x_test_bayes, k=k))\n",
    "print(f'Recall_topk_{k}:', recall_at_k(x_test_bayes, k=k))\n",
    "\n",
    "# plot curve\n",
    "plot_curve('Naive Bayes', y_pred=yhat_bayes, y_true=y_test)"
   ]
  },
  {
   "cell_type": "markdown",
   "id": "4f80c5a4",
   "metadata": {},
   "source": [
    "**Insight:**\n",
    "\n",
    "Precision to at k: de todas as predições de Churn dentro de k=100, 68% eram de fato Churn.\n",
    "\n",
    "Recall top at k: de todas as predições de churn da base, 17% estão em k=100."
   ]
  },
  {
   "cell_type": "markdown",
   "id": "3531ba74",
   "metadata": {},
   "source": [
    "### 7.2.1 Cross Validation - Naive Bayes"
   ]
  },
  {
   "cell_type": "code",
   "execution_count": null,
   "id": "861f66ad",
   "metadata": {},
   "outputs": [],
   "source": [
    "# data to cross validation\n",
    "x_full = pd.concat([x_train, x_test], axis=0)\n",
    "y_full = pd.concat([y_train, y_test], axis=0)"
   ]
  },
  {
   "cell_type": "code",
   "execution_count": 112,
   "id": "c2d392a8",
   "metadata": {},
   "outputs": [
    {
     "name": "stdout",
     "output_type": "stream",
     "text": [
      "Number KFold: 1/5\n",
      "Number KFold: 2/5\n",
      "Number KFold: 3/5\n",
      "Number KFold: 4/5\n",
      "Number KFold: 5/5\n"
     ]
    },
    {
     "data": {
      "text/html": [
       "<div>\n",
       "<style scoped>\n",
       "    .dataframe tbody tr th:only-of-type {\n",
       "        vertical-align: middle;\n",
       "    }\n",
       "\n",
       "    .dataframe tbody tr th {\n",
       "        vertical-align: top;\n",
       "    }\n",
       "\n",
       "    .dataframe thead th {\n",
       "        text-align: right;\n",
       "    }\n",
       "</style>\n",
       "<table border=\"1\" class=\"dataframe\">\n",
       "  <thead>\n",
       "    <tr style=\"text-align: right;\">\n",
       "      <th></th>\n",
       "      <th>model_name</th>\n",
       "      <th>number of K</th>\n",
       "      <th>precision_top_at</th>\n",
       "      <th>recall_top_at</th>\n",
       "    </tr>\n",
       "  </thead>\n",
       "  <tbody>\n",
       "    <tr>\n",
       "      <th>0</th>\n",
       "      <td>Naive Bayes</td>\n",
       "      <td>100</td>\n",
       "      <td>0.708911</td>\n",
       "      <td>0.175742</td>\n",
       "    </tr>\n",
       "  </tbody>\n",
       "</table>\n",
       "</div>"
      ],
      "text/plain": [
       "    model_name  number of K  precision_top_at  recall_top_at\n",
       "0  Naive Bayes          100          0.708911       0.175742"
      ]
     },
     "execution_count": 112,
     "metadata": {},
     "output_type": "execute_result"
    }
   ],
   "source": [
    "cross_validation(model_name='Naive Bayes', x=x_full, y=y_full, model=naive_bayes, cv=5, k=100, verbose=True)"
   ]
  },
  {
   "cell_type": "markdown",
   "id": "05f7feb2",
   "metadata": {},
   "source": [
    "## 7.3 Comparação Performance"
   ]
  },
  {
   "cell_type": "markdown",
   "id": "b7921e12",
   "metadata": {},
   "source": [
    "1. Test:\n",
    "\n",
    "- Precision_topk_100: 0.6831683168316832\n",
    "- Recall_topk_100: 0.17557251908396945\n",
    "\n",
    "2. Test:"
   ]
  },
  {
   "cell_type": "markdown",
   "id": "aa43f3df",
   "metadata": {},
   "source": [
    "# 8.0 AJUSTE DE HIPERPARAMETROS"
   ]
  },
  {
   "cell_type": "markdown",
   "id": "a95b5d05",
   "metadata": {},
   "source": [
    "## 8.1 Grid Search"
   ]
  },
  {
   "cell_type": "markdown",
   "id": "9954cffd",
   "metadata": {},
   "source": [
    "## 8.2 Modelo Final"
   ]
  },
  {
   "cell_type": "markdown",
   "id": "7b62de1c",
   "metadata": {},
   "source": [
    "### 8.2.1 Treinamento"
   ]
  },
  {
   "cell_type": "markdown",
   "id": "27704817",
   "metadata": {},
   "source": [
    "### 8.2.2 Teste"
   ]
  },
  {
   "cell_type": "markdown",
   "id": "7ebe5881",
   "metadata": {},
   "source": [
    "# 9.0 TRADUÇÃO E INTERPRETAÇÃO"
   ]
  },
  {
   "cell_type": "markdown",
   "id": "c04afa09",
   "metadata": {},
   "source": [
    "Lembrando que, o banco ganha dinheiro assim:\n",
    "\n",
    "Se o salario do cliente for maior que o salario médio do banco, a empresa fica com 20% do salario.\n",
    "\n",
    "Se o salario do clientes dor menor que o salario médio do banco, a empresa fica com 15% do salario."
   ]
  },
  {
   "cell_type": "markdown",
   "id": "acdd764a",
   "metadata": {},
   "source": [
    "#### Estratégia 1: \n",
    "\n",
    "- Clientes: Todos com prob > 50%\n",
    "- Desconto: 7%\n",
    "- Resultado budget: 50k\n",
    "- resultado: Falhou (passou do budget)\n",
    "\n",
    "### Estratégia 2:\n",
    "\n",
    "- Clientes: Todos com prob > 70%\n",
    "- Desconto: 7%\n",
    "- Resultado budget: 25k\n",
    "- resultado: Falhou (passou do budget)\n",
    "\n",
    "### Estratégia 3:\n",
    "\n",
    "- Clientes: Todos com prob > 80%\n",
    "- Desconto: 7%\n",
    "- Resultado budget: 10k\n",
    "- resultado: Passou (Dentro do budget)\n",
    "- Redução da taxa de Churn: de 20.37% para 19.50%\n",
    "\n",
    "### Estratégia 4:\n",
    "\n",
    "- Troca métricas."
   ]
  },
  {
   "cell_type": "code",
   "execution_count": 46,
   "id": "77306d78",
   "metadata": {},
   "outputs": [
    {
     "ename": "KeyError",
     "evalue": "'prob_bayes'",
     "output_type": "error",
     "traceback": [
      "\u001b[1;31m---------------------------------------------------------------------------\u001b[0m",
      "\u001b[1;31mKeyError\u001b[0m                                  Traceback (most recent call last)",
      "\u001b[1;32mc:\\users\\jhonatans\\appdata\\local\\programs\\python\\python39\\lib\\site-packages\\pandas\\core\\indexes\\base.py\u001b[0m in \u001b[0;36mget_loc\u001b[1;34m(self, key, method, tolerance)\u001b[0m\n\u001b[0;32m   3360\u001b[0m             \u001b[1;32mtry\u001b[0m\u001b[1;33m:\u001b[0m\u001b[1;33m\u001b[0m\u001b[1;33m\u001b[0m\u001b[0m\n\u001b[1;32m-> 3361\u001b[1;33m                 \u001b[1;32mreturn\u001b[0m \u001b[0mself\u001b[0m\u001b[1;33m.\u001b[0m\u001b[0m_engine\u001b[0m\u001b[1;33m.\u001b[0m\u001b[0mget_loc\u001b[0m\u001b[1;33m(\u001b[0m\u001b[0mcasted_key\u001b[0m\u001b[1;33m)\u001b[0m\u001b[1;33m\u001b[0m\u001b[1;33m\u001b[0m\u001b[0m\n\u001b[0m\u001b[0;32m   3362\u001b[0m             \u001b[1;32mexcept\u001b[0m \u001b[0mKeyError\u001b[0m \u001b[1;32mas\u001b[0m \u001b[0merr\u001b[0m\u001b[1;33m:\u001b[0m\u001b[1;33m\u001b[0m\u001b[1;33m\u001b[0m\u001b[0m\n",
      "\u001b[1;32mc:\\users\\jhonatans\\appdata\\local\\programs\\python\\python39\\lib\\site-packages\\pandas\\_libs\\index.pyx\u001b[0m in \u001b[0;36mpandas._libs.index.IndexEngine.get_loc\u001b[1;34m()\u001b[0m\n",
      "\u001b[1;32mc:\\users\\jhonatans\\appdata\\local\\programs\\python\\python39\\lib\\site-packages\\pandas\\_libs\\index.pyx\u001b[0m in \u001b[0;36mpandas._libs.index.IndexEngine.get_loc\u001b[1;34m()\u001b[0m\n",
      "\u001b[1;32mpandas\\_libs\\hashtable_class_helper.pxi\u001b[0m in \u001b[0;36mpandas._libs.hashtable.PyObjectHashTable.get_item\u001b[1;34m()\u001b[0m\n",
      "\u001b[1;32mpandas\\_libs\\hashtable_class_helper.pxi\u001b[0m in \u001b[0;36mpandas._libs.hashtable.PyObjectHashTable.get_item\u001b[1;34m()\u001b[0m\n",
      "\u001b[1;31mKeyError\u001b[0m: 'prob_bayes'",
      "\nThe above exception was the direct cause of the following exception:\n",
      "\u001b[1;31mKeyError\u001b[0m                                  Traceback (most recent call last)",
      "\u001b[1;32mC:\\Users\\JHONAT~1\\AppData\\Local\\Temp/ipykernel_2308/3813729486.py\u001b[0m in \u001b[0;36m<module>\u001b[1;34m\u001b[0m\n\u001b[0;32m      1\u001b[0m \u001b[1;31m# CLIENTES QUE RECEBRAO O CUPOM DE DESCONTO:\u001b[0m\u001b[1;33m\u001b[0m\u001b[1;33m\u001b[0m\u001b[1;33m\u001b[0m\u001b[0m\n\u001b[1;32m----> 2\u001b[1;33m \u001b[0mchurn\u001b[0m \u001b[1;33m=\u001b[0m \u001b[0mperformance\u001b[0m\u001b[1;33m[\u001b[0m\u001b[0mperformance\u001b[0m\u001b[1;33m[\u001b[0m\u001b[1;34m'prob_bayes'\u001b[0m\u001b[1;33m]\u001b[0m \u001b[1;33m>\u001b[0m \u001b[1;36m0.80\u001b[0m\u001b[1;33m]\u001b[0m\u001b[1;33m.\u001b[0m\u001b[0mcopy\u001b[0m\u001b[1;33m(\u001b[0m\u001b[1;33m)\u001b[0m\u001b[1;33m\u001b[0m\u001b[1;33m\u001b[0m\u001b[0m\n\u001b[0m\u001b[0;32m      3\u001b[0m \u001b[0mchurn\u001b[0m\u001b[1;33m.\u001b[0m\u001b[0msort_values\u001b[0m\u001b[1;33m(\u001b[0m\u001b[0mby\u001b[0m\u001b[1;33m=\u001b[0m\u001b[1;34m'prob_bayes'\u001b[0m\u001b[1;33m,\u001b[0m \u001b[0mascending\u001b[0m\u001b[1;33m=\u001b[0m\u001b[1;32mFalse\u001b[0m\u001b[1;33m)\u001b[0m\u001b[1;33m\u001b[0m\u001b[1;33m\u001b[0m\u001b[0m\n\u001b[0;32m      4\u001b[0m \u001b[1;33m\u001b[0m\u001b[0m\n\u001b[0;32m      5\u001b[0m \u001b[1;33m\u001b[0m\u001b[0m\n",
      "\u001b[1;32mc:\\users\\jhonatans\\appdata\\local\\programs\\python\\python39\\lib\\site-packages\\pandas\\core\\frame.py\u001b[0m in \u001b[0;36m__getitem__\u001b[1;34m(self, key)\u001b[0m\n\u001b[0;32m   3453\u001b[0m             \u001b[1;32mif\u001b[0m \u001b[0mself\u001b[0m\u001b[1;33m.\u001b[0m\u001b[0mcolumns\u001b[0m\u001b[1;33m.\u001b[0m\u001b[0mnlevels\u001b[0m \u001b[1;33m>\u001b[0m \u001b[1;36m1\u001b[0m\u001b[1;33m:\u001b[0m\u001b[1;33m\u001b[0m\u001b[1;33m\u001b[0m\u001b[0m\n\u001b[0;32m   3454\u001b[0m                 \u001b[1;32mreturn\u001b[0m \u001b[0mself\u001b[0m\u001b[1;33m.\u001b[0m\u001b[0m_getitem_multilevel\u001b[0m\u001b[1;33m(\u001b[0m\u001b[0mkey\u001b[0m\u001b[1;33m)\u001b[0m\u001b[1;33m\u001b[0m\u001b[1;33m\u001b[0m\u001b[0m\n\u001b[1;32m-> 3455\u001b[1;33m             \u001b[0mindexer\u001b[0m \u001b[1;33m=\u001b[0m \u001b[0mself\u001b[0m\u001b[1;33m.\u001b[0m\u001b[0mcolumns\u001b[0m\u001b[1;33m.\u001b[0m\u001b[0mget_loc\u001b[0m\u001b[1;33m(\u001b[0m\u001b[0mkey\u001b[0m\u001b[1;33m)\u001b[0m\u001b[1;33m\u001b[0m\u001b[1;33m\u001b[0m\u001b[0m\n\u001b[0m\u001b[0;32m   3456\u001b[0m             \u001b[1;32mif\u001b[0m \u001b[0mis_integer\u001b[0m\u001b[1;33m(\u001b[0m\u001b[0mindexer\u001b[0m\u001b[1;33m)\u001b[0m\u001b[1;33m:\u001b[0m\u001b[1;33m\u001b[0m\u001b[1;33m\u001b[0m\u001b[0m\n\u001b[0;32m   3457\u001b[0m                 \u001b[0mindexer\u001b[0m \u001b[1;33m=\u001b[0m \u001b[1;33m[\u001b[0m\u001b[0mindexer\u001b[0m\u001b[1;33m]\u001b[0m\u001b[1;33m\u001b[0m\u001b[1;33m\u001b[0m\u001b[0m\n",
      "\u001b[1;32mc:\\users\\jhonatans\\appdata\\local\\programs\\python\\python39\\lib\\site-packages\\pandas\\core\\indexes\\base.py\u001b[0m in \u001b[0;36mget_loc\u001b[1;34m(self, key, method, tolerance)\u001b[0m\n\u001b[0;32m   3361\u001b[0m                 \u001b[1;32mreturn\u001b[0m \u001b[0mself\u001b[0m\u001b[1;33m.\u001b[0m\u001b[0m_engine\u001b[0m\u001b[1;33m.\u001b[0m\u001b[0mget_loc\u001b[0m\u001b[1;33m(\u001b[0m\u001b[0mcasted_key\u001b[0m\u001b[1;33m)\u001b[0m\u001b[1;33m\u001b[0m\u001b[1;33m\u001b[0m\u001b[0m\n\u001b[0;32m   3362\u001b[0m             \u001b[1;32mexcept\u001b[0m \u001b[0mKeyError\u001b[0m \u001b[1;32mas\u001b[0m \u001b[0merr\u001b[0m\u001b[1;33m:\u001b[0m\u001b[1;33m\u001b[0m\u001b[1;33m\u001b[0m\u001b[0m\n\u001b[1;32m-> 3363\u001b[1;33m                 \u001b[1;32mraise\u001b[0m \u001b[0mKeyError\u001b[0m\u001b[1;33m(\u001b[0m\u001b[0mkey\u001b[0m\u001b[1;33m)\u001b[0m \u001b[1;32mfrom\u001b[0m \u001b[0merr\u001b[0m\u001b[1;33m\u001b[0m\u001b[1;33m\u001b[0m\u001b[0m\n\u001b[0m\u001b[0;32m   3364\u001b[0m \u001b[1;33m\u001b[0m\u001b[0m\n\u001b[0;32m   3365\u001b[0m         \u001b[1;32mif\u001b[0m \u001b[0mis_scalar\u001b[0m\u001b[1;33m(\u001b[0m\u001b[0mkey\u001b[0m\u001b[1;33m)\u001b[0m \u001b[1;32mand\u001b[0m \u001b[0misna\u001b[0m\u001b[1;33m(\u001b[0m\u001b[0mkey\u001b[0m\u001b[1;33m)\u001b[0m \u001b[1;32mand\u001b[0m \u001b[1;32mnot\u001b[0m \u001b[0mself\u001b[0m\u001b[1;33m.\u001b[0m\u001b[0mhasnans\u001b[0m\u001b[1;33m:\u001b[0m\u001b[1;33m\u001b[0m\u001b[1;33m\u001b[0m\u001b[0m\n",
      "\u001b[1;31mKeyError\u001b[0m: 'prob_bayes'"
     ]
    }
   ],
   "source": [
    "# CLIENTES QUE RECEBRAO O CUPOM DE DESCONTO:\n",
    "churn = performance[performance['prob_bayes'] > 0.80].copy()\n",
    "churn.sort_values(by='prob_bayes', ascending=False)\n",
    "\n",
    "\n",
    "# reverse transformation in salary\n",
    "churn['estimated_salary'] = mms_salary.inverse_transform(churn[['estimated_salary']].values)\n",
    "\n",
    "\n",
    "# salario medio banco\n",
    "salary_bank = churn['estimated_salary'].mean()\n",
    "\n",
    "# verify conditions\n",
    "churn['lucro_bruto'] = churn['estimated_salary'].apply(lambda x: (x * 20) / 100 if x > salary_bank else (x * 15) / 100)\n",
    "\n",
    "churn['discount_customer'] = (churn['lucro_bruto'] * 7) / 100\n",
    "churn['lucro_liquido'] = (churn['lucro_bruto'] - churn['discount_customer'])\n",
    "\n",
    "metrics_business = churn[['estimated_salary', 'prob_bayes', 'discount_customer', 'lucro_bruto', 'lucro_liquido']].copy()\n",
    "\n",
    "print('Budget de desconto aos clientes (Total): {:.2f}'.format(metrics_business['discount_customer'].sum()))"
   ]
  },
  {
   "cell_type": "markdown",
   "id": "fc2fae9e",
   "metadata": {},
   "source": [
    "### 1. Qual a taxa atual de Churn da TopBank?\n"
   ]
  },
  {
   "cell_type": "code",
   "execution_count": 90,
   "id": "764c8bc7",
   "metadata": {},
   "outputs": [
    {
     "name": "stdout",
     "output_type": "stream",
     "text": [
      "Taxa de Churn atual é de: 20.37%\n"
     ]
    }
   ],
   "source": [
    "n_exited = len(df1[df1['exited'] == 1])\n",
    "n_customers = len(df1)\n",
    "\n",
    "tax_churn = (n_exited / n_customers) * 100\n",
    "print('Taxa de Churn atual é de: {:.2f}%'.format(tax_churn))"
   ]
  },
  {
   "cell_type": "markdown",
   "id": "c73052c8",
   "metadata": {},
   "source": [
    "### 2. Qual a Performance do modelo em classificar os clientes como churns?\n"
   ]
  },
  {
   "cell_type": "markdown",
   "id": "ee17b8a1",
   "metadata": {},
   "source": [
    "### 3. Qual o retorno esperado, em termos de faturamento, se a empresa utilizar seu modelo para evitar o churn dos clientes?"
   ]
  },
  {
   "cell_type": "code",
   "execution_count": 91,
   "id": "fa4186d8",
   "metadata": {},
   "outputs": [
    {
     "name": "stdout",
     "output_type": "stream",
     "text": [
      "Nova Taxa de Churn é de: 19.50%\n"
     ]
    },
    {
     "data": {
      "text/html": [
       "<div>\n",
       "<style scoped>\n",
       "    .dataframe tbody tr th:only-of-type {\n",
       "        vertical-align: middle;\n",
       "    }\n",
       "\n",
       "    .dataframe tbody tr th {\n",
       "        vertical-align: top;\n",
       "    }\n",
       "\n",
       "    .dataframe thead th {\n",
       "        text-align: right;\n",
       "    }\n",
       "</style>\n",
       "<table border=\"1\" class=\"dataframe\">\n",
       "  <thead>\n",
       "    <tr style=\"text-align: right;\">\n",
       "      <th></th>\n",
       "      <th>Lucro Total</th>\n",
       "      <th>Gasto cupom</th>\n",
       "    </tr>\n",
       "  </thead>\n",
       "  <tbody>\n",
       "    <tr>\n",
       "      <th>0</th>\n",
       "      <td>1.431066e+06</td>\n",
       "      <td>107714.657645</td>\n",
       "    </tr>\n",
       "  </tbody>\n",
       "</table>\n",
       "</div>"
      ],
      "text/plain": [
       "    Lucro Total    Gasto cupom\n",
       "0  1.431066e+06  107714.657645"
      ]
     },
     "execution_count": 91,
     "metadata": {},
     "output_type": "execute_result"
    }
   ],
   "source": [
    "metrics = churn[['estimated_salary', 'prob_bayes', 'discount_customer', 'lucro_bruto', 'lucro_liquido']]\n",
    "\n",
    "total_discount = metrics['discount_customer'].sum()\n",
    "total_fat = metrics['lucro_liquido'].sum()\n",
    "\n",
    "n_exited = len(df1[df1['exited'] == 1]) - len(metrics)\n",
    "tax_churn = (n_exited / n_customers) * 100\n",
    "print('Nova Taxa de Churn é de: {:.2f}%'.format(tax_churn))\n",
    "\n",
    "pd.DataFrame({'Lucro Total': total_fat, 'Gasto cupom': total_discount}, index=[0])"
   ]
  },
  {
   "cell_type": "code",
   "execution_count": 88,
   "id": "68b3f0d0",
   "metadata": {},
   "outputs": [
    {
     "data": {
      "text/plain": [
       "<AxesSubplot:xlabel='lucro_liquido', ylabel='prob_bayes'>"
      ]
     },
     "execution_count": 88,
     "metadata": {},
     "output_type": "execute_result"
    },
    {
     "data": {
      "image/png": "[encoded data removed]",
      "text/plain": [
       "<Figure size 432x288 with 1 Axes>"
      ]
     },
     "metadata": {
      "needs_background": "light"
     },
     "output_type": "display_data"
    }
   ],
   "source": [
    "sns.scatterplot(x='lucro_liquido', y='prob_bayes', data=metrics)"
   ]
  },
  {
   "cell_type": "markdown",
   "id": "4d0534c7",
   "metadata": {},
   "source": [
    "# 10.0 DEPLOY"
   ]
  },
  {
   "cell_type": "markdown",
   "id": "b211030e",
   "metadata": {},
   "source": [
    "### Dicionario de Dados:"
   ]
  },
  {
   "cell_type": "markdown",
   "id": "1fa362ca",
   "metadata": {},
   "source": [
    "RowNumber: O número da coluna\n",
    "\n",
    "CustomerID: Identificador único do cliente\n",
    "\n",
    "Surname: Sobrenome do cliente.\n",
    "\n",
    "CreditScore: A pontuação de Crédito do cliente para o mercado de consumo.\n",
    "\n",
    "Geography: O país onde o cliente reside.\n",
    "\n",
    "Gender: O gênero do cliente.\n",
    "\n",
    "Age: A idade do cliente.\n",
    "\n",
    "Tenure: Número de anos que o cliente permaneceu ativo.\n",
    "\n",
    "Balance: Valor monetário que o cliente tem em sua conta bancária.\n",
    "\n",
    "NumOfProducts: O número de produtos comprado pelo cliente no banco.\n",
    "\n",
    "HasCrCard: Indica se o cliente possui ou não cartão de crédito.\n",
    "\n",
    "IsActiveMember: Indica se o cliente fez pelo menos uma movimentação na conta bancário dentro de 12 meses.\n",
    "\n",
    "EstimateSalary: Estimativa do salário mensal do cliente.\n",
    "\n",
    "Exited: Indica se o cliente está ou não em Churn."
   ]
  }
 ],
 "metadata": {
  "kernelspec": {
   "display_name": "Python 3 (ipykernel)",
   "language": "python",
   "name": "python3"
  },
  "language_info": {
   "codemirror_mode": {
    "name": "ipython",
    "version": 3
   },
   "file_extension": ".py",
   "mimetype": "text/x-python",
   "name": "python",
   "nbconvert_exporter": "python",
   "pygments_lexer": "ipython3",
   "version": "3.9.6"
  }
 },
 "nbformat": 4,
 "nbformat_minor": 5
}
